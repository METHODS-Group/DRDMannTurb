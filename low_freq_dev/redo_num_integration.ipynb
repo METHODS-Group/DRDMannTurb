{
 "cells": [
  {
   "cell_type": "code",
   "execution_count": 3,
   "metadata": {},
   "outputs": [],
   "source": [
    "import numpy as np\n",
    "import matplotlib.pyplot as plt\n",
    "import numba\n",
    "import scipy.integrate as integrate\n",
    "\n",
    "from numpy import trapz\n"
   ]
  },
  {
   "cell_type": "code",
   "execution_count": 4,
   "metadata": {},
   "outputs": [
    {
     "ename": "SyntaxError",
     "evalue": "unexpected EOF while parsing (2551167270.py, line 73)",
     "output_type": "error",
     "traceback": [
      "\u001b[0;36m  Cell \u001b[0;32mIn[4], line 73\u001b[0;36m\u001b[0m\n\u001b[0;31m    @numba.njit(parallel=True, fastmath=True, error_model=\"numpy\")\u001b[0m\n\u001b[0m                                                                  ^\u001b[0m\n\u001b[0;31mSyntaxError\u001b[0m\u001b[0;31m:\u001b[0m unexpected EOF while parsing\n"
     ]
    }
   ],
   "source": [
    "@numba.njit(fastmath=True, parallel=True, error_model=\"numpy\")\n",
    "def _integrand_phi(\n",
    "    k1: float,\n",
    "    k2: np.ndarray,\n",
    "    L_2d: float,\n",
    "    psi: float,\n",
    "    z_i: float,\n",
    "    c: float,\n",
    "    eps: float = 1e-20\n",
    ") -> tuple[np.ndarray, np.ndarray]:\n",
    "    \"\"\"\n",
    "    Calculates Phi_11(k1, k2) and Phi_22(k1, k2) for a fixed k1 and\n",
    "    array of k2 values. Accelerated with Numba.\n",
    "\n",
    "    Parameters\n",
    "    ----------\n",
    "        k1: particular k1 value\n",
    "        k2: range of k2 values to calculate for\n",
    "        L_2d: Length scale\n",
    "        psi: anisotropy paramter\n",
    "        z_i: attenutation length, which we assume = boundary layer height.\n",
    "        eps: epsilon to avoid divisions by zero with. Default is 1e-20\n",
    "\n",
    "    Returns\n",
    "    -------\n",
    "      tuple[np.ndarray, np.ndarray]: (phi11_values, phi22_values) given params\n",
    "    \"\"\"\n",
    "\n",
    "    phi11 = np.empty_like(k2)\n",
    "    phi22 = np.empty_like(k2)\n",
    "\n",
    "    # Precompute some constants\n",
    "    k1_sq = k1 * k1\n",
    "    cos_psi = np.cos(psi)\n",
    "    sin_psi = np.sin(psi)\n",
    "    L_2d_inv_sq = 1 / (L_2d * L_2d)\n",
    "    z_i_sq = z_i * z_i\n",
    "    k1_cos_psi_sq = (k1 * cos_psi) * (k1 * cos_psi)\n",
    "\n",
    "    for i in range(len(k2)):\n",
    "        _k2 = k2[i]\n",
    "        k2_sq = _k2 * _k2\n",
    "\n",
    "        # Obtain squares of k mag and kappa\n",
    "        k_mag_sq = k1_sq * k2_sq\n",
    "        kappa_sq = 2 * (k1_cos_psi_sq + (_k2 * _k2 * sin_psi * sin_psi))\n",
    "\n",
    "        # Avoid divison by zero\n",
    "        k_mag_sq = np.max(k_mag_sq, eps)\n",
    "        kappa_sq = np.max(kappa_sq, eps)\n",
    "        \n",
    "        # Obtain \"sqrts\" of sqs\n",
    "        kappa = np.sqrt(kappa_sq)\n",
    "\n",
    "        # E(kappa) calculation\n",
    "        k_mag = np.sqrt(k_mag_sq)\n",
    "        denom_factor_1 = (L_2d_inv_sq + k_mag_sq)**(7.0 / 3.0)\n",
    "        denom_factor_2 = 1 + (kappa_sq * z_i_sq)\n",
    "        # - Avoid div by zero again\n",
    "        denom_factor_1 = np.max(denom_factor_1, eps)\n",
    "        denom_factor_2 = np.max(denom_factor_2, eps)\n",
    "        \n",
    "        Ekappa = c * (kappa**3) / (denom_factor_1 * denom_factor_2)\n",
    "        common_factor = Ekappa / (np.pi * k_mag)\n",
    "\n",
    "        # Assemble\n",
    "        phi11[i] = common_factor * (1 - (k2_sq / k_mag_sq))\n",
    "        phi22[i] = common_factor * (1 - (k1_sq / k_mag_sq))\n",
    "\n",
    "\n",
    "    return phi11, phi22\n",
    "\n",
    "@numba.njit(parallel=True, fastmath=True, error_model=\"numpy\")"
   ]
  },
  {
   "cell_type": "code",
   "execution_count": 15,
   "metadata": {},
   "outputs": [],
   "source": [
    "class analytical_Fij:\n",
    "\n",
    "    def __init__(self, config: dict):\n",
    "\n",
    "        self.L_2d = config[\"L_2d\"]\n",
    "        self.psi = config[\"psi\"]\n",
    "        self.sigma2 = config[\"sigma2\"]\n",
    "        self.z_i = config[\"z_i\"]\n",
    "\n",
    "        self.c = (8 * self.sigma2) / (9 * (self.L_2d**(2/3)))\n",
    "        print(\"c: \", self.c)\n",
    "\n",
    "    def _phi_leading(self, k1: float, k2: float) -> float:\n",
    "        \"\"\"\n",
    "        Common leading factor E(kappa) / pi * k\n",
    "        \"\"\"\n",
    "\n",
    "        kappa = np.sqrt(\n",
    "            2 * ((k1 * np.cos(self.psi))**2 + (k2 * np.sin(self.psi))**2)\n",
    "        )\n",
    "        k_mag = np.sqrt(k1**2 + k2**2)\n",
    "\n",
    "        Ekappa = self.c * (kappa**3) / (\n",
    "            (self.L_2d**-2 + k_mag**2)**(7/3) *\\\n",
    "            (1 + (kappa * self.z_i)**2)\n",
    "        )\n",
    "\n",
    "        return Ekappa / (np.pi * k_mag)\n",
    "\n",
    "    def phi11(self, k1: float, k2: float) -> float:\n",
    "        \"\"\"\n",
    "        Returns F11 for at k1, k2\n",
    "        \"\"\"\n",
    "        _common = self._phi_leading(k1, k2)\n",
    "        \n",
    "        k_mag_sq = k1**2 + k2**2\n",
    "        _P_11 = 1 - (k1**2 / k_mag_sq)\n",
    "\n",
    "        return _common * _P_11\n",
    "    \n",
    "    def phi22(self, k1: float, k2: float) -> float:\n",
    "        \"\"\"\n",
    "        Returns F22 for at k1, k2\n",
    "        \"\"\"\n",
    "        _common = self._phi_leading(k1, k2)\n",
    "\n",
    "        k_mag_sq = k1**2 + k2**2\n",
    "        _P_22 = 1 - (k2**2 / k_mag_sq)\n",
    "\n",
    "        return _common * _P_22\n",
    "\n",
    "\n",
    "    def generate(self, k1_arr):\n",
    "        \"\"\"\n",
    "        Generate F11 over given k1_arr\n",
    "        \"\"\"\n",
    "\n",
    "        F11_res_arr = np.zeros_like(k1_arr)\n",
    "        F11_err_arr = np.zeros_like(k1_arr)\n",
    "\n",
    "        F22_res_arr = np.zeros_like(k1_arr)\n",
    "        F22_err_arr = np.zeros_like(k1_arr)\n",
    "\n",
    "        for i, k1 in enumerate(k1_arr):\n",
    "            F11_res_arr[i], F11_err_arr[i] = integrate.quad(\n",
    "                lambda _k2: self.phi11(\n",
    "                    k1, _k2\n",
    "                ),\n",
    "                -np.inf, np.inf\n",
    "            )\n",
    "\n",
    "            F22_res_arr[i], F22_err_arr[i] = integrate.quad(\n",
    "                lambda _k2: self.phi22(\n",
    "                    k1, _k2\n",
    "                ),\n",
    "                -np.inf, np.inf\n",
    "            )\n",
    "\n",
    "        return F11_res_arr, F11_err_arr, F22_res_arr, F22_err_arr\n"
   ]
  },
  {
   "cell_type": "code",
   "execution_count": 35,
   "metadata": {},
   "outputs": [
    {
     "name": "stdout",
     "output_type": "stream",
     "text": [
      "c:  0.0008251713481978278\n"
     ]
    }
   ],
   "source": [
    "# Figure 2a (top row)\n",
    "\n",
    "# NOTE: peak should sit between 0.30 and 0.35, *just* to the right of k1 = 1 / L_2d\n",
    "phys_config = {\n",
    "    \"L_2d\": 100_000.0, # [m]\n",
    "    \"psi\": np.deg2rad(45.0),\n",
    "    \"sigma2\": 2.0,\n",
    "    \"z_i\": 500.0, # [m]\n",
    "}\n",
    "\n",
    "k1_values = np.logspace(-1, 3, 500) / phys_config[\"L_2d\"]\n",
    "\n",
    "analytical_gen = analytical_Fij(phys_config)\n"
   ]
  },
  {
   "cell_type": "code",
   "execution_count": 36,
   "metadata": {},
   "outputs": [
    {
     "name": "stderr",
     "output_type": "stream",
     "text": [
      "/var/folders/xr/kfzp127x60q_6gm1sqwbzts40000gn/T/ipykernel_59807/1016551334.py:72: IntegrationWarning: The algorithm does not converge.  Roundoff error is detected\n",
      "  in the extrapolation table.  It is assumed that the requested tolerance\n",
      "  cannot be achieved, and that the returned result (if full_output = 1) is \n",
      "  the best which can be obtained.\n",
      "  F22_res_arr[i], F22_err_arr[i] = integrate.quad(\n"
     ]
    },
    {
     "name": "stdout",
     "output_type": "stream",
     "text": [
      "max k1 F11:  0.2708568232367358\n"
     ]
    }
   ],
   "source": [
    "k1_arr_a = np.logspace(-1, 3, 200) / phys_config[\"L_2d\"]\n",
    "k1_arr_b = np.logspace(0.5, 4.5, 200) / phys_config[\"L_2d\"]\n",
    "\n",
    "F11_a, F11_err_a, F22_a, F22_err_a = analytical_gen.generate(k1_arr_a)\n",
    "F11_b, F11_err_b, F22_b, F22_err_b = analytical_gen.generate(k1_arr_b)\n",
    "\n",
    "print(\"max k1 F11: \", np.max(k1_arr_a * F11_a))"
   ]
  },
  {
   "cell_type": "code",
   "execution_count": 37,
   "metadata": {},
   "outputs": [
    {
     "data": {
      "text/plain": [
       "Text(0, 0.5, '$k_1 F_{11}(k_1)$')"
      ]
     },
     "execution_count": 37,
     "metadata": {},
     "output_type": "execute_result"
    },
    {
     "data": {
      "image/png": "[encoded data removed]",
      "text/plain": [
       "<Figure size 640x480 with 1 Axes>"
      ]
     },
     "metadata": {},
     "output_type": "display_data"
    }
   ],
   "source": [
    "plt.semilogx(k1_arr_a * phys_config[\"L_2d\"], k1_arr_a * F11_a)\n",
    "plt.grid(which=\"both\", alpha=0.2)\n",
    "plt.title(\"F11 top row\")\n",
    "plt.xlabel(r\"$k_1 L_{2d}$\")\n",
    "plt.ylabel(r\"$k_1 F_{11}(k_1)$\")"
   ]
  },
  {
   "cell_type": "code",
   "execution_count": null,
   "metadata": {},
   "outputs": [],
   "source": []
  }
 ],
 "metadata": {
  "kernelspec": {
   "display_name": "drdmt",
   "language": "python",
   "name": "python3"
  },
  "language_info": {
   "codemirror_mode": {
    "name": "ipython",
    "version": 3
   },
   "file_extension": ".py",
   "mimetype": "text/x-python",
   "name": "python",
   "nbconvert_exporter": "python",
   "pygments_lexer": "ipython3",
   "version": "3.9.16"
  }
 },
 "nbformat": 4,
 "nbformat_minor": 2
}
