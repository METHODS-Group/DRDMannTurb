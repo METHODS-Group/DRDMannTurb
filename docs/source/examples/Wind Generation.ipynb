{
 "cells": [
  {
   "cell_type": "markdown",
   "metadata": {},
   "source": [
    "# Wind Field Generation from Trained DRD Model"
   ]
  },
  {
   "cell_type": "code",
   "execution_count": 1,
   "metadata": {},
   "outputs": [],
   "source": [
    "from drdmannturb.interfaces.generate_wind import GenerateWind\n",
    "from drdmannturb.interfaces.wind_plot import plot_velocity_components, plot_velocity_magnitude\n",
    "\n",
    "import torch\n",
    "import torch.nn as nn\n",
    "import numpy as np\n",
    "\n",
    "device = \"cuda\" if torch.cuda.is_available() else \"cpu\" \n",
    "\n",
    "# v2: torch.set_default_device('cuda:0')\n",
    "if torch.cuda.is_available():\n",
    "    torch.set_default_tensor_type(\"torch.cuda.FloatTensor\")"
   ]
  },
  {
   "cell_type": "code",
   "execution_count": 2,
   "metadata": {},
   "outputs": [
    {
     "name": "stdout",
     "output_type": "stream",
     "text": [
      "Scales:  [0.6515829883838786, 2.9391506973454566, 71.85638483432416]\n",
      "block computation: 0.00838780403137207\n",
      "block computation: 0.0018076896667480469\n",
      "block computation: 0.001668691635131836\n"
     ]
    }
   ],
   "source": [
    "Type_Model = 'NN' ### 'FPDE_RDT', 'Mann', 'VK', 'NN'\n",
    "nBlocks    = 3\n",
    "\n",
    "normalize = True\n",
    "friction_velocity = 2.683479938442173\n",
    "reference_height = 180.0\n",
    "roughness_height = 0.75\n",
    "grid_dimensions = np.array([1200.0, 864.0, 576.0])\n",
    "grid_levels = np.array([5, 3, 5])\n",
    "seed = None #9000\n",
    "\n",
    "path_to_parameters = './results/EddyLifetimeType.CUSTOMMLP_DataType.KAIMAL.pkl'\n",
    "\n",
    "##########################################\n",
    "### Wind generation\n",
    "##########################################\n",
    "wind = GenerateWind(friction_velocity, reference_height, grid_dimensions, grid_levels, model=Type_Model, path_to_parameters=path_to_parameters, seed=seed)\n",
    "for _ in range(nBlocks):\n",
    "    wind()\n",
    "    wind_field = wind.total_wind\n",
    "\n",
    "# TODO: these should be moved into a GenerateWind method...? \n",
    "##########################################\n",
    "### Scaling of the field (normalization)\n",
    "##########################################\n",
    "if normalize == True:\n",
    "    sd = np.sqrt(np.mean(wind_field**2))\n",
    "    wind_field = wind_field/sd\n",
    "    wind_field *= 4.26 # rescale to match Mann model \n",
    "\n",
    "JCSS_law = lambda z, z_0, delta, u_ast: u_ast/0.41 * ( np.log(z/z_0+1.0) + 5.57*z/delta - 1.87*(z/delta)**2 - 1.33*(z/delta)**3 + 0.25*(z/delta)**4 )\n",
    "log_law = lambda z, z_0, u_ast: u_ast * np.log(z/z_0+1.0)/0.41\n",
    "\n",
    "z = np.linspace(0.0,grid_dimensions[2], 2**(grid_levels[2])+1)\n",
    "mean_profile_z = log_law(z, roughness_height, friction_velocity)\n",
    "\n",
    "mean_profile = np.zeros_like(wind_field)\n",
    "mean_profile[...,0] = np.tile(mean_profile_z.T, (mean_profile.shape[0], mean_profile.shape[1], 1))\n",
    "\n",
    "wind_field += mean_profile\n",
    "\n",
    "wind_field *= 40/63"
   ]
  },
  {
   "cell_type": "code",
   "execution_count": 3,
   "metadata": {},
   "outputs": [],
   "source": [
    "spacing = tuple(grid_dimensions/(2.0**grid_levels + 1))\n",
    "\n",
    "wind_field_vtk = tuple([np.copy(wind_field[...,i], order='C') for i in range(3)])\n",
    "\n",
    "cellData = {'grid': np.zeros_like(wind_field[...,0]), 'wind': wind_field_vtk}"
   ]
  },
  {
   "cell_type": "code",
   "execution_count": 5,
   "metadata": {},
   "outputs": [
    {
     "data": {
      "text/plain": [
       "'/home/ai/Documents/wind/DRDMannTurb/docs/source/examples/results/fluctuation_simple.vti'"
      ]
     },
     "execution_count": 5,
     "metadata": {},
     "output_type": "execute_result"
    }
   ],
   "source": [
    "from pyevtk.hl import imageToVTK\n",
    "\n",
    "filename = \"./results/fluctuation_simple\"\n",
    "imageToVTK(filename, cellData=cellData, spacing=spacing)"
   ]
  },
  {
   "cell_type": "code",
   "execution_count": 4,
   "metadata": {},
   "outputs": [],
   "source": [
    "fig_components = plot_velocity_components(spacing, wind_field)\n",
    "\n",
    "fig_components.show('browser')"
   ]
  },
  {
   "cell_type": "code",
   "execution_count": 6,
   "metadata": {},
   "outputs": [],
   "source": [
    "fig_magnitude = plot_velocity_magnitude(spacing, wind_field)\n",
    "\n",
    "fig_magnitude.show('browser')"
   ]
  }
 ],
 "metadata": {
  "kernelspec": {
   "display_name": "fracturbulence",
   "language": "python",
   "name": "python3"
  },
  "language_info": {
   "codemirror_mode": {
    "name": "ipython",
    "version": 3
   },
   "file_extension": ".py",
   "mimetype": "text/x-python",
   "name": "python",
   "nbconvert_exporter": "python",
   "pygments_lexer": "ipython3",
   "version": "3.9.13"
  }
 },
 "nbformat": 4,
 "nbformat_minor": 2
}
