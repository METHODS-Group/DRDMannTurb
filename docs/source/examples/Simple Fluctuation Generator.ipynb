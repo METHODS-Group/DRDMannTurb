{
 "cells": [
  {
   "cell_type": "code",
   "execution_count": 1,
   "metadata": {},
   "outputs": [],
   "source": [
    "import numpy as np \n",
    "import scipy.fft as fft\n",
    "from pyevtk.hl import imageToVTK\n",
    "\n",
    "from drdmannturb.interfaces.wind_plot import plot_velocity_components, plot_velocity_magnitude\n",
    "\n",
    "import plotly.graph_objects as go\n",
    "from plotly.subplots import make_subplots\n",
    "\n",
    "# TODO: https://stackoverflow.com/questions/49079714/plotly-figures-in-jupyter-notebook-take-huge-amounts-of-memory\n",
    "# https://stackoverflow.com/questions/48889270/include-standalone-html-page-in-sphinx-document\n",
    "# https://stackoverflow.com/questions/46269345/how-to-embed-plotly-graphs-in-sphinx-documentation-and-nbsphinx"
   ]
  },
  {
   "cell_type": "code",
   "execution_count": 2,
   "metadata": {},
   "outputs": [],
   "source": [
    "ndim        = 3\n",
    "grid_levels = np.array([5,5,5]) \n",
    "grid_shape  = 2**grid_levels\n",
    "domain_size = np.array([1, 1, 0.25 ]) \n",
    "\n",
    "friction_velocity = 2.683479938442173\n",
    "reference_height  = 180.0\n",
    "roughness_height  = 0.75\n",
    "prefactor         = 3.2 * friction_velocity**2 * reference_height**(-2/3)\n",
    "Lengthscale       = 0.59 * reference_height"
   ]
  },
  {
   "cell_type": "code",
   "execution_count": 3,
   "metadata": {},
   "outputs": [],
   "source": [
    "def VonKarmanSpectralTensor(prefactor=1, beta=None):\n",
    "\n",
    "    Nd, d          = grid_shape.copy(), ndim\n",
    "    frequences     = [fft.fftfreq(Nd[j], domain_size[j]/Nd[j]) for j in range(d)]\n",
    "    Nd[-1]         = int(Nd[-1] // 2)+1 \n",
    "    frequences[-1] = frequences[-1][:Nd[-1]]\n",
    "\n",
    "    k  = np.array(list(np.meshgrid(*frequences, indexing='ij')))\n",
    "    kk = np.sum(k**2, axis=0)\n",
    "\n",
    "    ### curl\n",
    "    SqrtSpectralTens = np.tile(np.zeros(Nd, dtype=np.complex128),(3,3,1,1,1)) \n",
    "    SqrtSpectralTens[0,1,...] = -k[2,...]\n",
    "    SqrtSpectralTens[0,2,...] =  k[1,...]\n",
    "    SqrtSpectralTens[1,0,...] =  k[2,...]\n",
    "    SqrtSpectralTens[1,2,...] = -k[0,...]\n",
    "    SqrtSpectralTens[2,0,...] = -k[1,...]\n",
    "    SqrtSpectralTens[2,1,...] =  k[0,...]\n",
    "    SqrtSpectralTens *= 1j\n",
    "\n",
    "    ### energy spectrum\n",
    "    L                  = Lengthscale\n",
    "    const              = prefactor * (L**(17/3)) / (4*np.pi)\n",
    "    SqrtEnergySpectrum = np.sqrt( const / (1 + (L**2) * kk)**(17/6) )\n",
    "    SqrtSpectralTens  *= SqrtEnergySpectrum\n",
    "\n",
    "    ### dissipation (due to diffusion)\n",
    "    if beta: SqrtSpectralTens *= np.exp(-beta*np.sqrt(kk))\n",
    "\n",
    "    return SqrtSpectralTens"
   ]
  },
  {
   "cell_type": "code",
   "execution_count": 4,
   "metadata": {},
   "outputs": [],
   "source": [
    "noise           = np.random.normal(loc=0, scale=1, size=[ndim]+list(grid_shape))\n",
    "noise_hat       = fft.rfftn(noise, norm=\"ortho\")\n",
    "kernel_hat      = VonKarmanSpectralTensor(prefactor=prefactor)\n",
    "fluctuation_hat = (kernel_hat * noise_hat).sum(axis=1) ### matrix-vector product\n",
    "fluctuation     = fft.irfftn(fluctuation_hat, norm=\"ortho\")\n",
    "spacing         = list(domain_size/grid_shape) #[1/grid_shape.max()]*ndim"
   ]
  },
  {
   "cell_type": "markdown",
   "metadata": {},
   "source": [
    "## Write out Fluctuation Data to VTK"
   ]
  },
  {
   "cell_type": "code",
   "execution_count": 7,
   "metadata": {},
   "outputs": [
    {
     "data": {
      "text/plain": [
       "'/home/ai/Documents/wind/DRDMannTurb/docs/source/examples/results/fluctuation_simple.vti'"
      ]
     },
     "execution_count": 7,
     "metadata": {},
     "output_type": "execute_result"
    }
   ],
   "source": [
    "filename = \"./results/fluctuation_simple\"\n",
    "cellData = {'fluctuation field' : tuple(fluctuation)}\n",
    "\n",
    "imageToVTK(filename, cellData=cellData, spacing=spacing)"
   ]
  },
  {
   "cell_type": "markdown",
   "metadata": {},
   "source": [
    "## Plot Fluctuations in Plotly"
   ]
  },
  {
   "cell_type": "code",
   "execution_count": 8,
   "metadata": {},
   "outputs": [],
   "source": [
    "fig_components = plot_velocity_components(spacing, fluctuation, reshape=False)\n",
    "\n",
    "fig_components.show('browser')"
   ]
  },
  {
   "cell_type": "code",
   "execution_count": 9,
   "metadata": {},
   "outputs": [],
   "source": [
    "fig_magnitude = plot_velocity_magnitude(spacing, fluctuation, reshape=False)\n",
    "\n",
    "fig_magnitude.show('browser')"
   ]
  }
 ],
 "metadata": {
  "kernelspec": {
   "display_name": "fracturbulence",
   "language": "python",
   "name": "python3"
  },
  "language_info": {
   "codemirror_mode": {
    "name": "ipython",
    "version": 3
   },
   "file_extension": ".py",
   "mimetype": "text/x-python",
   "name": "python",
   "nbconvert_exporter": "python",
   "pygments_lexer": "ipython3",
   "version": "3.9.13"
  }
 },
 "nbformat": 4,
 "nbformat_minor": 2
}
