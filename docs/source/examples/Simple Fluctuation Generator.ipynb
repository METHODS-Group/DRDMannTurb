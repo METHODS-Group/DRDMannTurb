{
 "cells": [
  {
   "cell_type": "code",
   "execution_count": null,
   "metadata": {},
   "outputs": [],
   "source": [
    "import numpy as np \n",
    "import scipy.fft as fft\n",
    "from pyevtk.hl import imageToVTK\n",
    "\n",
    "import plotly.graph_objects as go\n",
    "from plotly.subplots import make_subplots"
   ]
  },
  {
   "cell_type": "code",
   "execution_count": null,
   "metadata": {},
   "outputs": [],
   "source": [
    "ndim        = 3\n",
    "grid_levels = np.array([7,7,5]) \n",
    "grid_shape  = 2**grid_levels\n",
    "domain_size = np.array([1, 1, 0.25 ]) \n",
    "\n",
    "friction_velocity = 2.683479938442173\n",
    "reference_height  = 180.0\n",
    "roughness_height  = 0.75\n",
    "prefactor         = 3.2 * friction_velocity**2 * reference_height**(-2/3)\n",
    "Lengthscale       = 0.59 * reference_height"
   ]
  },
  {
   "cell_type": "code",
   "execution_count": null,
   "metadata": {},
   "outputs": [],
   "source": [
    "def VonKarmanSpectralTensor(prefactor=1, beta=None):\n",
    "\n",
    "    Nd, d          = grid_shape.copy(), ndim\n",
    "    frequences     = [fft.fftfreq(Nd[j], domain_size[j]/Nd[j]) for j in range(d)]\n",
    "    Nd[-1]         = int(Nd[-1] // 2)+1 \n",
    "    frequences[-1] = frequences[-1][:Nd[-1]]\n",
    "\n",
    "    k  = np.array(list(np.meshgrid(*frequences, indexing='ij')))\n",
    "    kk = np.sum(k**2, axis=0)\n",
    "\n",
    "    ### curl\n",
    "    SqrtSpectralTens = np.tile(np.zeros(Nd, dtype=np.complex128),(3,3,1,1,1)) \n",
    "    SqrtSpectralTens[0,1,...] = -k[2,...]\n",
    "    SqrtSpectralTens[0,2,...] =  k[1,...]\n",
    "    SqrtSpectralTens[1,0,...] =  k[2,...]\n",
    "    SqrtSpectralTens[1,2,...] = -k[0,...]\n",
    "    SqrtSpectralTens[2,0,...] = -k[1,...]\n",
    "    SqrtSpectralTens[2,1,...] =  k[0,...]\n",
    "    SqrtSpectralTens *= 1j\n",
    "\n",
    "    ### energy spectrum\n",
    "    L                  = Lengthscale\n",
    "    const              = prefactor * (L**(17/3)) / (4*np.pi)\n",
    "    SqrtEnergySpectrum = np.sqrt( const / (1 + (L**2) * kk)**(17/6) )\n",
    "    SqrtSpectralTens  *= SqrtEnergySpectrum\n",
    "\n",
    "    ### dissipation (due to diffusion)\n",
    "    if beta: SqrtSpectralTens *= np.exp(-beta*np.sqrt(kk))\n",
    "\n",
    "    return SqrtSpectralTens"
   ]
  },
  {
   "cell_type": "code",
   "execution_count": null,
   "metadata": {},
   "outputs": [],
   "source": [
    "noise           = np.random.normal(loc=0, scale=1, size=[ndim]+list(grid_shape))\n",
    "noise_hat       = fft.rfftn(noise, norm=\"ortho\")\n",
    "kernel_hat      = VonKarmanSpectralTensor(prefactor=prefactor)\n",
    "fluctuation_hat = (kernel_hat * noise_hat).sum(axis=1) ### matrix-vector product\n",
    "fluctuation     = fft.irfftn(fluctuation_hat, norm=\"ortho\")\n",
    "spacing         = list(domain_size/grid_shape) #[1/grid_shape.max()]*ndim"
   ]
  },
  {
   "cell_type": "markdown",
   "metadata": {},
   "source": [
    "## Write out Fluctuation Data to VTK"
   ]
  },
  {
   "cell_type": "code",
   "execution_count": null,
   "metadata": {},
   "outputs": [],
   "source": [
    "filename = \"./results/fluctuation_simple\"\n",
    "cellData = {'fluctuation field' : tuple(fluctuation)}\n",
    "\n",
    "imageToVTK(filename, cellData=cellData, spacing=spacing)"
   ]
  },
  {
   "cell_type": "markdown",
   "metadata": {},
   "source": [
    "## Plot Fluctuations in Plotly"
   ]
  },
  {
   "cell_type": "code",
   "execution_count": null,
   "metadata": {},
   "outputs": [],
   "source": [
    "x = np.array([spacing[0]*n for n in range(fluctuation.shape[1])])\n",
    "y = np.array([spacing[1]*n for n in range(fluctuation.shape[2])])\n",
    "z = np.array([spacing[2]*n for n in range(fluctuation.shape[3])])\n",
    "\n",
    "X, Y, Z = np.meshgrid(x, y, z)\n",
    "\n",
    "fig = make_subplots(\n",
    "    rows = 1, cols = 3, \n",
    "    subplot_titles=(\"x Component\", \"y Component\", \"z Component\"), \n",
    "    specs= [[{'type': 'volume'}, {'type': 'volume'}, {'type': 'volume'}]]\n",
    ")\n",
    "\n",
    "fig.add_trace(go.Volume(\n",
    "        x = X.flatten(), \n",
    "        y = Y.flatten(), \n",
    "        z = Z.flatten(), \n",
    "        value = fluctuation[0].flatten(),\n",
    "        coloraxis='coloraxis',\n",
    "        opacity=0.5\n",
    "    ), row = 1, col = 1\n",
    ")\n",
    "\n",
    "fig.add_trace(go.Volume(\n",
    "        x = X.flatten(), \n",
    "        y = Y.flatten(), \n",
    "        z = Z.flatten(), \n",
    "        value = fluctuation[1].flatten(),\n",
    "        coloraxis='coloraxis',\n",
    "        opacity=0.5\n",
    "    ), row = 1, col = 2\n",
    ")\n",
    "\n",
    "fig.add_trace(go.Volume(\n",
    "        x = X.flatten(), \n",
    "        y = Y.flatten(), \n",
    "        z = Z.flatten(), \n",
    "        value = fluctuation[2].flatten(),\n",
    "        coloraxis='coloraxis',\n",
    "        opacity=0.5\n",
    "    ), row = 1, col = 3\n",
    ")\n",
    "\n",
    "fig.update_layout(scene = dict( aspectmode='data'), scene2 = dict( aspectmode='data'), scene3 = dict( aspectmode='data')) \n",
    "\n",
    "fig.update_layout(\n",
    "    scene = dict(\n",
    "        xaxis = dict(visible=False),\n",
    "        yaxis = dict(visible=False),\n",
    "        zaxis = dict(visible=False)\n",
    "        ), \n",
    "    scene2 = dict(\n",
    "        xaxis = dict(visible=False),\n",
    "        yaxis = dict(visible=False),\n",
    "        zaxis = dict(visible=False)\n",
    "        ), \n",
    "    scene3 = dict(\n",
    "        xaxis = dict(visible=False),\n",
    "        yaxis = dict(visible=False),\n",
    "        zaxis = dict(visible=False)\n",
    "        )\n",
    "    )\n",
    "\n",
    "fig.update_coloraxes(colorscale='spectral')\n",
    "\n",
    "fig.show()"
   ]
  },
  {
   "cell_type": "code",
   "execution_count": null,
   "metadata": {},
   "outputs": [],
   "source": [
    "fluctuation_magnitude = np.sqrt(fluctuation[0]**2+fluctuation[1]**2+fluctuation[2]**2)\n",
    "\n",
    "fig = go.Figure(\n",
    "    data = go.Volume(\n",
    "        x=X.flatten(), \n",
    "        y=Y.flatten(), \n",
    "        z=Z.flatten(), \n",
    "        value=fluctuation_magnitude.flatten(), \n",
    "        opacity=0.5, \n",
    "        colorscale='spectral', \n",
    "        colorbar={\"title\": '|U(x)|'}\n",
    "    ), \n",
    ")\n",
    "\n",
    "fig.update_layout(scene = dict( aspectmode='data')) \n",
    "\n",
    "fig.update_layout(\n",
    "    scene = dict(\n",
    "        xaxis = dict(visible=False),\n",
    "        yaxis = dict(visible=False),\n",
    "        zaxis = dict(visible=False)\n",
    "        ), \n",
    ")\n",
    "\n",
    "fig.update_layout(title_text=\"Fluctuation Vector Magnitude\", title_x=0.5)\n",
    "\n",
    "fig.show()"
   ]
  }
 ],
 "metadata": {
  "kernelspec": {
   "display_name": "fracturbulence",
   "language": "python",
   "name": "python3"
  },
  "language_info": {
   "codemirror_mode": {
    "name": "ipython",
    "version": 3
   },
   "file_extension": ".py",
   "mimetype": "text/x-python",
   "name": "python",
   "nbconvert_exporter": "python",
   "pygments_lexer": "ipython3",
   "version": "3.9.0"
  }
 },
 "nbformat": 4,
 "nbformat_minor": 2
}
