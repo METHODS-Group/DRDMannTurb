{
 "cells": [
  {
   "cell_type": "code",
   "execution_count": 4,
   "metadata": {},
   "outputs": [],
   "source": [
    "import matplotlib as mpl\n",
    "import matplotlib.pyplot as plt\n",
    "import numpy as np\n",
    "import torch\n",
    "import torch.nn as nn\n",
    "from scipy.interpolate import CubicSpline\n",
    "\n",
    "from drdmannturb.calibration import CalibrationProblem\n",
    "from drdmannturb.shared.common import MannEddyLifetime\n",
    "from drdmannturb.data_generator import OnePointSpectraDataGenerator\n",
    "\n",
    "from drdmannturb.shared.enums import EddyLifetimeType, PowerSpectraType, DataType\n",
    "from drdmannturb.shared.parameters import NNParameters, ProblemParameters, LossParameters, PhysicalParameters\n",
    "\n",
    "plt.style.use(\"bmh\")\n",
    "\n",
    "plt.rc(\"text\", usetex=True)\n",
    "plt.rc(\"font\", family=\"serif\")"
   ]
  },
  {
   "cell_type": "code",
   "execution_count": 11,
   "metadata": {},
   "outputs": [],
   "source": [
    "spectra_file = \"data/Spectra_interp.dat\"\n",
    "\n",
    "\n",
    "domain = torch.logspace(-1, 2, 20)\n",
    "\n",
    "L = 70\n",
    "GAMMA = 3.7\n",
    "SIGMA = 0.04\n",
    "\n",
    "Uref = 21\n",
    "zref = 1\n",
    "\n",
    "pb = CalibrationProblem(\n",
    "    nn_params = NNParameters(\n",
    "        activations = [nn.GELU(), nn.GELU(), nn.GELU()]\n",
    "    ),\n",
    "    prob_params = ProblemParameters(\n",
    "        data_type = DataType.CUSTOM,\n",
    "        tol=1e-9,\n",
    "    ),\n",
    "    loss_params = LossParameters(\n",
    "        alpha_reg = 1e-5\n",
    "    ),\n",
    "    phys_params = PhysicalParameters(\n",
    "        L=L,\n",
    "        Gamma=GAMMA,\n",
    "        sigma=SIGMA,\n",
    "        domain=domain,\n",
    "        Uref=Uref,\n",
    "        zref=zref,\n",
    "    ),\n",
    ")"
   ]
  },
  {
   "cell_type": "code",
   "execution_count": 12,
   "metadata": {},
   "outputs": [],
   "source": [
    "parameters = pb.parameters\n",
    "parameters[:3] = [np.log(L), np.log(GAMMA), np.log(SIGMA)]\n",
    "pb.parameters = parameters[:len(pb.parameters)]\n",
    "\n",
    "CustomData = torch.tensor(np.genfromtxt(spectra_file, skip_header=1, delimiter=\",\"))\n",
    "f = CustomData[:, 0]\n",
    "k1_data_pts = 2 * torch.pi * f / Uref"
   ]
  },
  {
   "cell_type": "code",
   "execution_count": 13,
   "metadata": {},
   "outputs": [],
   "source": [
    "DataPoints = [(k1, 1) for k1 in k1_data_pts]\n",
    "Data = OnePointSpectraDataGenerator(\n",
    "    data_points=DataPoints, k1_data_points=k1_data_pts.data.numpy(),\n",
    ").Data\n"
   ]
  },
  {
   "cell_type": "code",
   "execution_count": null,
   "metadata": {},
   "outputs": [],
   "source": [
    "pb.calibrate(data=Data)"
   ]
  }
 ],
 "metadata": {
  "kernelspec": {
   "display_name": "KeithProject",
   "language": "python",
   "name": "python3"
  },
  "language_info": {
   "codemirror_mode": {
    "name": "ipython",
    "version": 3
   },
   "file_extension": ".py",
   "mimetype": "text/x-python",
   "name": "python",
   "nbconvert_exporter": "python",
   "pygments_lexer": "ipython3",
   "version": "3.9.17"
  },
  "orig_nbformat": 4
 },
 "nbformat": 4,
 "nbformat_minor": 2
}
