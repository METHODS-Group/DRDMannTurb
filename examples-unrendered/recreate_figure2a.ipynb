{
 "cells": [
  {
   "cell_type": "code",
   "execution_count": 1,
   "metadata": {},
   "outputs": [],
   "source": [
    "import numpy as np\n",
    "import scipy.special as sp\n",
    "from low_freq_prototype import LowFreq2DFieldGenerator\n",
    "\n",
    "from numpy.fft import fft2, fftfreq\n",
    "import matplotlib.pyplot as plt"
   ]
  },
  {
   "cell_type": "code",
   "execution_count": 2,
   "metadata": {},
   "outputs": [],
   "source": [
    "sigma2 = 2\n",
    "z_i = 500.0\n",
    "psi_deg = 45.0\n",
    "\n",
    "L_2D = 15_000.0\n",
    "\n",
    "grid_dimensions = np.array([40 * L_2D, 5 * L_2D])\n",
    "grid_levels = np.array([6, 4])\n",
    "\n",
    "generator = LowFreq2DFieldGenerator(\n",
    "    grid_dimensions,\n",
    "    grid_levels,\n",
    "    L_2D= L_2D,\n",
    "    sigma2 = sigma2,\n",
    "    z_i = 500.0,\n",
    "    psi_degs = 45.0,\n",
    "    c = None,\n",
    ")\n"
   ]
  },
  {
   "cell_type": "code",
   "execution_count": 3,
   "metadata": {},
   "outputs": [],
   "source": [
    "assert generator.c is not None"
   ]
  },
  {
   "cell_type": "code",
   "execution_count": 4,
   "metadata": {},
   "outputs": [],
   "source": [
    "def analytic_F11_2D(k1: float) -> float:\n",
    "    \"\"\"\n",
    "    Analytic solution for F11(k1).\n",
    "    \"\"\"\n",
    "    a = 1 + 2 * (k1 * L_2D * np.cos(generator.psi_rad))**2\n",
    "    b = 1 + 2 * (k1 * z_i * np.cos(generator.psi_rad))**2\n",
    "    p = (L_2D**2 * b) / (z_i**2 * a)\n",
    "\n",
    "    d = 1.0\n",
    "\n",
    "    first_term_numerator = (sp.gamma(11/6) * (L_2D**(11/3)))\\\n",
    "        * (-p * sp.hyp2f1(5/6, 1, 1/2, p) - 7 * sp.hyp2f1(5/6, 1, 1/2, p)\\\n",
    "           + 2 * sp.hyp2f1(-1/6, 1, 1/2, p))\n",
    "    first_term_denominator = 10 * np.sqrt(2 * np.pi) * (L_2D)\n",
    "\n",
    "    second_term_numerator = (L_2D**(14/3) * np.sqrt(b))\n",
    "    second_term_denominator = (2 * np.sqrt(2) * d**(7/3) * (z_i * np.sin(generator.psi_rad)))\n",
    "\n",
    "    return generator.c * ((first_term_numerator / first_term_denominator) \\\n",
    "                          + (second_term_numerator / second_term_denominator))\n",
    "\n",
    "\n",
    "def analytic_F22_2D(k1: float) -> float:\n",
    "    \"\"\"\n",
    "    \n",
    "    \"\"\"\n",
    "    a = 1 + 2 * (k1 * L_2D * np.cos(generator.psi_rad))**2\n",
    "    b = 1 + 2 * (k1 * z_i * np.cos(generator.psi_rad))**2\n",
    "    p = (L_2D**2 * b) / (z_i**2 * a)\n",
    "\n",
    "    d = 1.0\n",
    "\n",
    "    leading_factor_num = z_i**4 * a**(1/6) * L_2D**(11/3) * sp.gamma(17/6)\n",
    "    leading_factor_denom = 55 * np.sqrt(2 * np.pi) * (L_2D**2 - z_i**2)**2\\\n",
    "        * b * sp.gamma(7/3) * np.sin(generator.psi_rad)\n",
    "    leading_factor = - leading_factor_num / leading_factor_denom\n",
    "\n",
    "    line_1 = -9 - 25 * sp.hyp2f1(-1/6, 1, 1/2, p)\n",
    "    line_2 = p**2 * ( 15 - 30 * sp.hyp2f1(-1/6, 1, 1/2, p) - 59 * sp.hyp2f1(5/6, 1, 1/2, p))\n",
    "    line_3 = 35 * sp.hyp2f1(5/6, 1, 1/2, p) + 15 * p**3 * sp.hyp2f1(5/6, 1, 1/2, p)\n",
    "    line_4 = p * (-54 + 88 * sp.hyp2f1(-1/6, 1, 1/2, p) + 9 * sp.hyp2f1(5/6, 1, 1/2, p))\n",
    "\n",
    "    term_1 = leading_factor * (line_1 + line_2 + line_3 + line_4)\n",
    "\n",
    "    term_2 = (L_2D**(14/3)) / (np.sqrt(2 * b) * d**(7/3) * z_i * np.sin(generator.psi_rad))\n",
    "\n",
    "    paren = term_1 - term_2\n",
    "\n",
    "    return generator.c * k1**2 * paren"
   ]
  },
  {
   "cell_type": "code",
   "execution_count": 6,
   "metadata": {},
   "outputs": [
    {
     "name": "stderr",
     "output_type": "stream",
     "text": [
      "/var/folders/xr/kfzp127x60q_6gm1sqwbzts40000gn/T/ipykernel_25041/1810795798.py:12: RuntimeWarning: invalid value encountered in scalar add\n",
      "  * (-p * sp.hyp2f1(5/6, 1, 1/2, p) - 7 * sp.hyp2f1(5/6, 1, 1/2, p)\\\n"
     ]
    },
    {
     "data": {
      "image/png": "[encoded data removed]",
      "text/plain": [
       "<Figure size 640x480 with 1 Axes>"
      ]
     },
     "metadata": {},
     "output_type": "display_data"
    }
   ],
   "source": [
    "x_axis = np.logspace(-3, 0, 100)\n",
    "y_axis = np.array([analytic_F11_2D(L_2D * k1) for k1 in x_axis])\n",
    "\n",
    "plt.plot(x_axis, y_axis)\n",
    "plt.show()\n"
   ]
  },
  {
   "cell_type": "code",
   "execution_count": 9,
   "metadata": {},
   "outputs": [],
   "source": [
    "sum_sim_F11 = None\n",
    "sum_sim_F22 = None"
   ]
  },
  {
   "cell_type": "code",
   "execution_count": null,
   "metadata": {},
   "outputs": [],
   "source": []
  }
 ],
 "metadata": {
  "kernelspec": {
   "display_name": "DRDMT",
   "language": "python",
   "name": "python3"
  },
  "language_info": {
   "codemirror_mode": {
    "name": "ipython",
    "version": 3
   },
   "file_extension": ".py",
   "mimetype": "text/x-python",
   "name": "python",
   "nbconvert_exporter": "python",
   "pygments_lexer": "ipython3",
   "version": "3.9.16"
  }
 },
 "nbformat": 4,
 "nbformat_minor": 2
}
