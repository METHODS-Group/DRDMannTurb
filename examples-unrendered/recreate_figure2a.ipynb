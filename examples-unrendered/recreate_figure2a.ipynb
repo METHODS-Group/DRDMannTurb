{
 "cells": [
  {
   "cell_type": "code",
   "execution_count": 1,
   "metadata": {},
   "outputs": [],
   "source": [
    "import numpy as np\n",
    "import scipy.special as sp\n",
    "from low_freq_prototype import LowFreq2DFieldGenerator\n",
    "\n",
    "from numpy.fft import fft2, fftfreq\n",
    "import matplotlib.pyplot as plt"
   ]
  },
  {
   "cell_type": "code",
   "execution_count": 2,
   "metadata": {},
   "outputs": [],
   "source": [
    "sigma2 = 2\n",
    "z_i = 500.0\n",
    "psi_deg = 45.0\n",
    "\n",
    "L_2D = 15_000.0\n",
    "\n",
    "grid_dimensions = np.array([40 * L_2D, 5 * L_2D])\n",
    "grid_levels = np.array([6, 4])\n",
    "\n",
    "generator = LowFreq2DFieldGenerator(\n",
    "    grid_dimensions,\n",
    "    grid_levels,\n",
    "    L_2D= L_2D,\n",
    "    sigma2 = sigma2,\n",
    "    z_i = 500.0,\n",
    "    psi_degs = 45.0,\n",
    "    c = None,\n",
    ")\n"
   ]
  },
  {
   "cell_type": "code",
   "execution_count": 3,
   "metadata": {},
   "outputs": [],
   "source": [
    "def analytic_F11_2D(k1: float) -> float:\n",
    "    \"\"\"\n",
    "    Analytic solution for F11(k1) in 2d.\n",
    "    \"\"\"\n",
    "    a = 1 + 2 * (k1 * generator.L_2D * np.cos(generator.psi_rad))**2\n",
    "    b = 1 + 2 * (k1 * generator.z_i * np.cos(generator.psi_rad))**2\n",
    "    p = (L_2D**2 * b) / (z_i**2 * a)\n",
    "\n",
    "    d = 1.0\n",
    "\n",
    "    first_term_numerator = (sp.gamma(11/6) * (L_2D**(11/3)))\\\n",
    "        * (-p * sp.hyp2f1(5/6, 1, 1/2, p) - 7 * sp.hyp2f1(5/6, 1, 1/2, p)\\\n",
    "           + 2 * sp.hyp2f1(-1/6, 1, 1/2, p))\n",
    "    first_term_denominator = (2 * np.pi)**(11/3) * (a**(11/6))\n",
    "\n",
    "    second_term_numerator = (L_2D**(14/3) * np.sqrt(b))\n",
    "    second_term_denominator = (2 * np.sqrt(2) * d**(7/3) * (generator.z_i * np.sin(generator.psi_rad)))\n",
    "\n",
    "    return generator.c * ((first_term_numerator / first_term_denominator) \\\n",
    "                          + (second_term_numerator / second_term_denominator))\n",
    "\n",
    "\n",
    "def analytic_F22_2D(k1: float) -> float:\n",
    "    a = 1 + 2 * (k1 * generator.L_2D * np.cos(generator.psi_rad))**2\n",
    "    b = 1 + 2 * (k1 * generator.z_i * np.cos(generator.psi_rad))**2\n",
    "    p = (L_2D**2 * b) / (z_i**2 * a)\n",
    "\n",
    "    d = 1.0\n",
    "\n",
    "    leading_factor_num = generator.z_i**4 * a**(1/6) ** generator.L_2D * sp.gamma(17/6)\n",
    "    leading_factor_denom = 55 * np.sqrt(2 * np.pi) * (generator.L_2D**2 - generator.z_i**2)**2\\\n",
    "        * b * sp.gamma(7/3) * np.sin(generator.psi_rad)\n",
    "    leading_factor = - leading_factor_num / leading_factor_denom\n",
    "\n",
    "    line_1 = -9 - 25 * sp.hyp2f1(-1/6, 1, 1/2, p)\n",
    "    line_2 = p**2 * ( 15 - 30 * sp.hyp2f1(-1/6, 1, 1/2, p) - 59 * sp.hyp2f1(5/6, 1, 1/2, p))\n",
    "    line_3 = 35 * sp.hyp2f1(5/6, 1, 1/2, p) + 15 * p**3 * sp.hyp2f1(5/6, 1, 1/2, p)\n",
    "    line_4 = p * (-54 + 88 * sp.hyp2f1(-1/6, 1, 1/2, p) + 9 * sp.hyp2f1(5/6, 1, 1/2, p))\n",
    "\n",
    "    term_1 = leading_factor * (line_1 + line_2 + line_3 + line_4)\n",
    "\n",
    "    term_2 = (L_2D**(14/3)) / (np.sqrt(2 * b) * d**(7/3) * z_i * np.sin(generator.psi_rad))\n",
    "\n",
    "    paren = term_1 - term_2\n",
    "\n",
    "    return generator.c * k1**2 * paren"
   ]
  },
  {
   "cell_type": "code",
   "execution_count": 4,
   "metadata": {},
   "outputs": [
    {
     "ename": "TypeError",
     "evalue": "hyp2f1() takes from 4 to 5 positional arguments but 1 were given",
     "output_type": "error",
     "traceback": [
      "\u001b[0;31m---------------------------------------------------------------------------\u001b[0m",
      "\u001b[0;31mTypeError\u001b[0m                                 Traceback (most recent call last)",
      "Cell \u001b[0;32mIn[4], line 2\u001b[0m\n\u001b[1;32m      1\u001b[0m x_axis \u001b[38;5;241m=\u001b[39m np\u001b[38;5;241m.\u001b[39mlogspace(\u001b[38;5;241m-\u001b[39m\u001b[38;5;241m3\u001b[39m, \u001b[38;5;241m0\u001b[39m, \u001b[38;5;241m100\u001b[39m)\n\u001b[0;32m----> 2\u001b[0m y_axis \u001b[38;5;241m=\u001b[39m np\u001b[38;5;241m.\u001b[39marray([analytic_F11_2D(k1) \u001b[38;5;28;01mfor\u001b[39;00m k1 \u001b[38;5;129;01min\u001b[39;00m x_axis])\n\u001b[1;32m      4\u001b[0m plt\u001b[38;5;241m.\u001b[39mplot(x_axis, y_axis)\n\u001b[1;32m      5\u001b[0m plt\u001b[38;5;241m.\u001b[39mshow()\n",
      "Cell \u001b[0;32mIn[4], line 2\u001b[0m, in \u001b[0;36m<listcomp>\u001b[0;34m(.0)\u001b[0m\n\u001b[1;32m      1\u001b[0m x_axis \u001b[38;5;241m=\u001b[39m np\u001b[38;5;241m.\u001b[39mlogspace(\u001b[38;5;241m-\u001b[39m\u001b[38;5;241m3\u001b[39m, \u001b[38;5;241m0\u001b[39m, \u001b[38;5;241m100\u001b[39m)\n\u001b[0;32m----> 2\u001b[0m y_axis \u001b[38;5;241m=\u001b[39m np\u001b[38;5;241m.\u001b[39marray([\u001b[43manalytic_F11_2D\u001b[49m\u001b[43m(\u001b[49m\u001b[43mk1\u001b[49m\u001b[43m)\u001b[49m \u001b[38;5;28;01mfor\u001b[39;00m k1 \u001b[38;5;129;01min\u001b[39;00m x_axis])\n\u001b[1;32m      4\u001b[0m plt\u001b[38;5;241m.\u001b[39mplot(x_axis, y_axis)\n\u001b[1;32m      5\u001b[0m plt\u001b[38;5;241m.\u001b[39mshow()\n",
      "Cell \u001b[0;32mIn[3], line 12\u001b[0m, in \u001b[0;36manalytic_F11_2D\u001b[0;34m(k1)\u001b[0m\n\u001b[1;32m      7\u001b[0m p \u001b[38;5;241m=\u001b[39m (L_2D\u001b[38;5;241m*\u001b[39m\u001b[38;5;241m*\u001b[39m\u001b[38;5;241m2\u001b[39m \u001b[38;5;241m*\u001b[39m b) \u001b[38;5;241m/\u001b[39m (z_i\u001b[38;5;241m*\u001b[39m\u001b[38;5;241m*\u001b[39m\u001b[38;5;241m2\u001b[39m \u001b[38;5;241m*\u001b[39m a)\n\u001b[1;32m      9\u001b[0m d \u001b[38;5;241m=\u001b[39m \u001b[38;5;241m1.0\u001b[39m\n\u001b[1;32m     11\u001b[0m first_term_numerator \u001b[38;5;241m=\u001b[39m (sp\u001b[38;5;241m.\u001b[39mgamma(\u001b[38;5;241m11\u001b[39m\u001b[38;5;241m/\u001b[39m\u001b[38;5;241m6\u001b[39m) \u001b[38;5;241m*\u001b[39m (L_2D\u001b[38;5;241m*\u001b[39m\u001b[38;5;241m*\u001b[39m(\u001b[38;5;241m11\u001b[39m\u001b[38;5;241m/\u001b[39m\u001b[38;5;241m3\u001b[39m)))\\\n\u001b[0;32m---> 12\u001b[0m     \u001b[38;5;241m*\u001b[39m (\u001b[38;5;241m-\u001b[39mp \u001b[38;5;241m*\u001b[39m sp\u001b[38;5;241m.\u001b[39mhyp2f1(\u001b[38;5;241m5\u001b[39m\u001b[38;5;241m/\u001b[39m\u001b[38;5;241m6\u001b[39m, \u001b[38;5;241m1\u001b[39m, \u001b[38;5;241m1\u001b[39m\u001b[38;5;241m/\u001b[39m\u001b[38;5;241m2\u001b[39m, p) \u001b[38;5;241m-\u001b[39m \u001b[38;5;241m7\u001b[39m \u001b[38;5;241m*\u001b[39m \u001b[43msp\u001b[49m\u001b[38;5;241;43m.\u001b[39;49m\u001b[43mhyp2f1\u001b[49m\u001b[43m(\u001b[49m\u001b[38;5;241;43m5\u001b[39;49m\u001b[38;5;241;43m/\u001b[39;49m\u001b[38;5;241;43m6\u001b[39;49m\u001b[43m)\u001b[49m\\\n\u001b[1;32m     13\u001b[0m        \u001b[38;5;241m+\u001b[39m \u001b[38;5;241m2\u001b[39m \u001b[38;5;241m*\u001b[39m sp\u001b[38;5;241m.\u001b[39mhyp2f1(\u001b[38;5;241m-\u001b[39m\u001b[38;5;241m1\u001b[39m\u001b[38;5;241m/\u001b[39m\u001b[38;5;241m6\u001b[39m, \u001b[38;5;241m1\u001b[39m, \u001b[38;5;241m1\u001b[39m\u001b[38;5;241m/\u001b[39m\u001b[38;5;241m2\u001b[39m, p))\n\u001b[1;32m     14\u001b[0m first_term_denominator \u001b[38;5;241m=\u001b[39m (\u001b[38;5;241m2\u001b[39m \u001b[38;5;241m*\u001b[39m np\u001b[38;5;241m.\u001b[39mpi)\u001b[38;5;241m*\u001b[39m\u001b[38;5;241m*\u001b[39m(\u001b[38;5;241m11\u001b[39m\u001b[38;5;241m/\u001b[39m\u001b[38;5;241m3\u001b[39m) \u001b[38;5;241m*\u001b[39m (a\u001b[38;5;241m*\u001b[39m\u001b[38;5;241m*\u001b[39m(\u001b[38;5;241m11\u001b[39m\u001b[38;5;241m/\u001b[39m\u001b[38;5;241m6\u001b[39m))\n\u001b[1;32m     16\u001b[0m second_term_numerator \u001b[38;5;241m=\u001b[39m (L_2D\u001b[38;5;241m*\u001b[39m\u001b[38;5;241m*\u001b[39m(\u001b[38;5;241m14\u001b[39m\u001b[38;5;241m/\u001b[39m\u001b[38;5;241m3\u001b[39m) \u001b[38;5;241m*\u001b[39m np\u001b[38;5;241m.\u001b[39msqrt(b))\n",
      "\u001b[0;31mTypeError\u001b[0m: hyp2f1() takes from 4 to 5 positional arguments but 1 were given"
     ]
    }
   ],
   "source": [
    "x_axis = np.logspace(-3, 0, 100)\n",
    "y_axis = np.array([analytic_F11_2D(k1) for k1 in x_axis])\n",
    "\n",
    "plt.plot(x_axis, y_axis)\n",
    "plt.show()\n"
   ]
  },
  {
   "cell_type": "code",
   "execution_count": 9,
   "metadata": {},
   "outputs": [],
   "source": [
    "sum_sim_F11 = None\n",
    "sum_sim_F22 = None"
   ]
  },
  {
   "cell_type": "code",
   "execution_count": null,
   "metadata": {},
   "outputs": [],
   "source": []
  }
 ],
 "metadata": {
  "kernelspec": {
   "display_name": "DRDMT",
   "language": "python",
   "name": "python3"
  },
  "language_info": {
   "codemirror_mode": {
    "name": "ipython",
    "version": 3
   },
   "file_extension": ".py",
   "mimetype": "text/x-python",
   "name": "python",
   "nbconvert_exporter": "python",
   "pygments_lexer": "ipython3",
   "version": "3.9.16"
  }
 },
 "nbformat": 4,
 "nbformat_minor": 2
}
