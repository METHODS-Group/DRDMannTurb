{
 "cells": [
  {
   "cell_type": "code",
   "execution_count": 1,
   "metadata": {},
   "outputs": [],
   "source": [
    "from pathlib import Path\n",
    "\n",
    "import matplotlib as mpl\n",
    "import matplotlib.pyplot as plt\n",
    "import numpy as np\n",
    "import torch\n",
    "import torch.nn as nn\n",
    "from scipy.interpolate import CubicSpline\n",
    "\n",
    "from drdmannturb.calibration import CalibrationProblem\n",
    "from drdmannturb.data_generator import OnePointSpectraDataGenerator\n",
    "from drdmannturb.shared.common import MannEddyLifetime\n",
    "from drdmannturb.shared.enums import DataType, EddyLifetimeType, PowerSpectraType\n",
    "from drdmannturb.shared.parameters import (\n",
    "    LossParameters,\n",
    "    NNParameters,\n",
    "    PhysicalParameters,\n",
    "    ProblemParameters,\n",
    ")\n",
    "\n",
    "path = Path().resolve()\n",
    "\n",
    "device = \"cuda\" if torch.cuda.is_available() else \"cpu\"\n",
    "\n",
    "# v2: torch.set_default_device('cuda:0')\n",
    "if torch.cuda.is_available():\n",
    "    torch.set_default_tensor_type(\"torch.cuda.FloatTensor\")\n",
    "\n",
    "plt.style.use(\"bmh\")\n",
    "\n",
    "plt.rc(\"text\", usetex=True)\n",
    "plt.rc(\"font\", family=\"serif\")"
   ]
  },
  {
   "cell_type": "code",
   "execution_count": 2,
   "metadata": {},
   "outputs": [],
   "source": [
    "\n",
    "L = 0.59\n",
    "\n",
    "Gamma = 3.9\n",
    "sigma = 3.4\n",
    "\n",
    "domain = torch.logspace(-1, 2, 20)\n",
    "\n",
    "# %%\n",
    "pb = CalibrationProblem(\n",
    "    nn_params=NNParameters(\n",
    "        nlayers=5,\n",
    "        hidden_layer_sizes=[5, 10, 20, 10, 5],\n",
    "        activations=[nn.GELU(), nn.ReLU(), nn.GELU(), nn.ReLU(), nn.GELU()],\n",
    "    ),\n",
    "    prob_params=ProblemParameters(nepochs=5, wolfe_iter_count=30),\n",
    "    loss_params=LossParameters(),\n",
    "    phys_params=PhysicalParameters(L=L, Gamma=Gamma, sigma=sigma, domain=domain),\n",
    "    device=device,\n",
    ")"
   ]
  },
  {
   "cell_type": "code",
   "execution_count": 3,
   "metadata": {},
   "outputs": [
    {
     "data": {
      "text/plain": [
       "260"
      ]
     },
     "execution_count": 3,
     "metadata": {},
     "output_type": "execute_result"
    }
   ],
   "source": [
    "pb.num_trainable_params()"
   ]
  }
 ],
 "metadata": {
  "kernelspec": {
   "display_name": "fracturbulence",
   "language": "python",
   "name": "python3"
  },
  "language_info": {
   "codemirror_mode": {
    "name": "ipython",
    "version": 3
   },
   "file_extension": ".py",
   "mimetype": "text/x-python",
   "name": "python",
   "nbconvert_exporter": "python",
   "pygments_lexer": "ipython3",
   "version": "3.9.13"
  }
 },
 "nbformat": 4,
 "nbformat_minor": 2
}
