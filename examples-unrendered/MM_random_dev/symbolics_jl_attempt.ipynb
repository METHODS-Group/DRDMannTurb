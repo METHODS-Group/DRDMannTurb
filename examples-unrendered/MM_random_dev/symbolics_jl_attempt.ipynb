{
 "cells": [
  {
   "cell_type": "code",
   "execution_count": 2,
   "metadata": {},
   "outputs": [],
   "source": [
    "using Symbolics\n",
    "using SymbolicUtils\n",
    "using SymbolicNumericIntegration"
   ]
  },
  {
   "cell_type": "code",
   "execution_count": 3,
   "metadata": {},
   "outputs": [],
   "source": [
    "@variables s_k1, s_k2, s_κ, s_L2D, s_c, s_ψ, s_z_i;\n"
   ]
  },
  {
   "cell_type": "code",
   "execution_count": 5,
   "metadata": {},
   "outputs": [
    {
     "data": {
      "text/plain": [
       "E_kappa_atten (generic function with 1 method)"
      ]
     },
     "metadata": {},
     "output_type": "display_data"
    }
   ],
   "source": [
    "function kappa_(k1, k2, s_ψ)\n",
    "    return sqrt(2 * ((sin(s_ψ)^2 * k1^2) + (cos(s_ψ)^2 * k2^2)))\n",
    "end\n",
    "\n",
    "function E_kappa(κ)\n",
    "    # Calculate the energy spectra WITHOUT attenuation\n",
    "    numerator = s_c * κ^3\n",
    "    denominator = (s_L2D^(-2) + κ^2)^(7/3)\n",
    "\n",
    "    return numerator / denominator\n",
    "end\n",
    "\n",
    "function E_kappa_atten(κ, z_i)\n",
    "    energy = E_kappa(κ)\n",
    "\n",
    "    attentuation = 1 / (1 + (κ * z_i)^2)\n",
    "\n",
    "    return energy * attentuation\n",
    "end"
   ]
  },
  {
   "cell_type": "code",
   "execution_count": 6,
   "metadata": {},
   "outputs": [
    {
     "data": {
      "text/latex": [
       "$$ \\begin{equation}\n",
       "\\frac{\\mathtt{s\\_\\kappa}^{3} \\mathtt{s\\_c}}{\\left( \\mathtt{s\\_\\kappa}^{2} + \\left( \\frac{1}{\\mathtt{s\\_L2D}} \\right)^{2} \\right)^{2.3333} \\left( 1 + \\mathtt{s\\_\\kappa}^{2} \\mathtt{s\\_z\\_i}^{2} \\right)}\n",
       "\\end{equation}\n",
       " $$"
      ],
      "text/plain": [
       "(s_c*(s_κ^3)) / ((1 + (s_z_i^2)*(s_κ^2))*((s_κ^2 + (1 / s_L2D)^2)^2.3333333333333335))"
      ]
     },
     "metadata": {},
     "output_type": "display_data"
    }
   ],
   "source": [
    "kappa_test = kappa_(s_k1, s_k2, s_ψ)\n",
    "E_kappa_test = E_kappa(s_κ)\n",
    "E_kappa_atten_test = E_kappa_atten(s_κ, s_z_i)"
   ]
  },
  {
   "cell_type": "code",
   "execution_count": null,
   "metadata": {},
   "outputs": [],
   "source": [
    "integrate(E_kappa, 0)"
   ]
  },
  {
   "cell_type": "code",
   "execution_count": 23,
   "metadata": {},
   "outputs": [
    {
     "data": {
      "text/latex": [
       "$$ \\begin{equation}\n",
       "\\frac{\\left( \\sqrt{2 \\left( \\sin^{2}\\left( \\psi \\right) \\mathtt{k1}^{2} + \\cos^{2}\\left( \\psi \\right) \\mathtt{k2}^{2} \\right)} \\right)^{3} \\mathtt{L2D}^{4.6667} c}{\\left( 1 + \\left( \\sqrt{2 \\left( \\sin^{2}\\left( \\psi \\right) \\mathtt{k1}^{2} + \\cos^{2}\\left( \\psi \\right) \\mathtt{k2}^{2} \\right)} \\right)^{2} \\mathtt{L2D}^{2} \\right)^{2.3333}}\n",
       "\\end{equation}\n",
       " $$"
      ],
      "text/plain": [
       "((L2D^4.666666666666667)*c*(sqrt(2((k1^2)*(sin(ψ)^2) + (k2^2)*(cos(ψ)^2)))^3)) / ((1 + (L2D^2)*(sqrt(2((k1^2)*(sin(ψ)^2) + (k2^2)*(cos(ψ)^2)))^2))^2.3333333333333335)"
      ]
     },
     "metadata": {},
     "output_type": "display_data"
    }
   ],
   "source": []
  },
  {
   "cell_type": "code",
   "execution_count": null,
   "metadata": {},
   "outputs": [],
   "source": [
    "integrate()"
   ]
  }
 ],
 "metadata": {
  "kernelspec": {
   "display_name": "Julia 1.11.2",
   "language": "julia",
   "name": "julia-1.11"
  },
  "language_info": {
   "file_extension": ".jl",
   "mimetype": "application/julia",
   "name": "julia",
   "version": "1.11.2"
  }
 },
 "nbformat": 4,
 "nbformat_minor": 2
}
