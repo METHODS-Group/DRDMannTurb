{
 "cells": [
  {
   "cell_type": "code",
   "execution_count": 1,
   "metadata": {},
   "outputs": [],
   "source": [
    "import numpy as np\n",
    "import matplotlib.pyplot as plt\n",
    "from scipy.special import gamma, hyp2f1"
   ]
  },
  {
   "cell_type": "code",
   "execution_count": null,
   "metadata": {},
   "outputs": [],
   "source": [
    "def deg_to_rad(deg):\n",
    "    \"\"\"\n",
    "    NOTE: the psi anisotropy parameter is apparently given in degrees but\n",
    "    numpy trig expects radians.\n",
    "    \"\"\"\n",
    "    return deg * np.pi / 180\n",
    "\n",
    "\n",
    "def compute_kappa(k1, k2, psi):\n",
    "    \"\"\"\n",
    "    Compute kappa, how the scale-independent anisotropy\n",
    "    is introduced to the energy spectrum.\n",
    "    \"\"\"\n",
    "    return np.sqrt(\n",
    "        (k1**2 * np.cos(psi)**2)\n",
    "        + (k2**2 * np.sin(psi)**2)\n",
    "    )\n",
    "\n",
    " def compute\n",
    "\n",
    "\n",
    "def compute_Ekappa_attenuation(kappa, L_2D, z_i, c=1.0):\n",
    "    \"\"\"\n",
    "    Compute the energy spectrum E(kappa) with attenuation.\n",
    "    Following equation (2) in the paper.\n",
    "    \"\"\"\n",
    "    energy_spectrum = (c * (kappa**3) / (L_2D**(-2) + kappa**2)**(7/3))\n",
    "    attenuation = 1 / (1 + (kappa * z_i)**2)\n",
    "\n",
    "    return energy_spectrum * attenuation"
   ]
  }
 ],
 "metadata": {
  "kernelspec": {
   "display_name": "DRDMT",
   "language": "python",
   "name": "python3"
  },
  "language_info": {
   "codemirror_mode": {
    "name": "ipython",
    "version": 3
   },
   "file_extension": ".py",
   "mimetype": "text/x-python",
   "name": "python",
   "nbconvert_exporter": "python",
   "pygments_lexer": "ipython3",
   "version": "3.9.16"
  }
 },
 "nbformat": 4,
 "nbformat_minor": 2
}
