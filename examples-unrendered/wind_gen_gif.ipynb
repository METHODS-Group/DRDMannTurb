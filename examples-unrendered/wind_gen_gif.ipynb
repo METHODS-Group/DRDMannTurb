{
 "cells": [
  {
   "cell_type": "code",
   "execution_count": 12,
   "metadata": {},
   "outputs": [],
   "source": [
    "from pathlib import Path\n",
    "\n",
    "from plotly.graph_objs import *\n",
    "\n",
    "import numpy as np\n",
    "import torch\n",
    "import pyevtk\n",
    "\n",
    "from drdmannturb.fluctuation_generation import (\n",
    "    plot_velocity_components,  # utility function for plotting each velocity component in the field, not used in this example\n",
    ")\n",
    "from drdmannturb.fluctuation_generation import (\n",
    "    GenerateTurbulenceField\n",
    "    plot_velocity_magnitude,\n",
    "    format_wind_field\n",
    ")\n",
    "\n",
    "path = Path().resolve()\n",
    "\n",
    "device = \"cuda\" if torch.cuda.is_available() else \"cpu\"\n",
    "\n",
    "# v2: torch.set_default_device('cuda:0')\n",
    "if torch.cuda.is_available():\n",
    "    torch.set_default_tensor_type(\"torch.cuda.FloatTensor\")"
   ]
  },
  {
   "cell_type": "code",
   "execution_count": 13,
   "metadata": {},
   "outputs": [],
   "source": [
    "friction_velocity = 0.45\n",
    "reference_height = 180.0\n",
    "roughness_height = 0.0001\n",
    "\n",
    "grid_dimensions = np.array([1200.0, 864.0, 576.0]) * 1/20#* 1/10\n",
    "grid_levels = np.array([10, 6, 10])\n",
    "\n",
    "seed = None  # 9000\n",
    "spacing = tuple(grid_dimensions / (2.0**grid_levels + 1))\n",
    "\n",
    "from drdmannturb import create_grid\n"
   ]
  },
  {
   "cell_type": "code",
   "execution_count": 14,
   "metadata": {},
   "outputs": [
    {
     "name": "stdout",
     "output_type": "stream",
     "text": [
      "Scales:  [0.6119754316657415, 4.166587976454207, 77.20412995416186]\n"
     ]
    },
    {
     "ename": "KeyboardInterrupt",
     "evalue": "",
     "output_type": "error",
     "traceback": [
      "\u001b[0;31m---------------------------------------------------------------------------\u001b[0m",
      "\u001b[0;31mKeyboardInterrupt\u001b[0m                         Traceback (most recent call last)",
      "\u001b[1;32m/Users/matthewmeeker/OSS/DRDMannTurb/examples-unrendered/wind_gen_gif.ipynb Cell 3\u001b[0m line \u001b[0;36m1\n\u001b[1;32m      <a href='vscode-notebook-cell:/Users/matthewmeeker/OSS/DRDMannTurb/examples-unrendered/wind_gen_gif.ipynb#W2sZmlsZQ%3D%3D?line=3'>4</a>\u001b[0m path_to_parameters \u001b[39m=\u001b[39m (\n\u001b[1;32m      <a href='vscode-notebook-cell:/Users/matthewmeeker/OSS/DRDMannTurb/examples-unrendered/wind_gen_gif.ipynb#W2sZmlsZQ%3D%3D?line=4'>5</a>\u001b[0m     path \u001b[39m/\u001b[39m \u001b[39m\"\u001b[39m\u001b[39m../docs/source/results/EddyLifetimeType.CUSTOMMLP_DataType.KAIMAL.pkl\u001b[39m\u001b[39m\"\u001b[39m\n\u001b[1;32m      <a href='vscode-notebook-cell:/Users/matthewmeeker/OSS/DRDMannTurb/examples-unrendered/wind_gen_gif.ipynb#W2sZmlsZQ%3D%3D?line=5'>6</a>\u001b[0m     \u001b[39mif\u001b[39;00m path\u001b[39m.\u001b[39mname \u001b[39m==\u001b[39m \u001b[39m\"\u001b[39m\u001b[39mexamples\u001b[39m\u001b[39m\"\u001b[39m\n\u001b[1;32m      <a href='vscode-notebook-cell:/Users/matthewmeeker/OSS/DRDMannTurb/examples-unrendered/wind_gen_gif.ipynb#W2sZmlsZQ%3D%3D?line=6'>7</a>\u001b[0m     \u001b[39melse\u001b[39;00m path \u001b[39m/\u001b[39m \u001b[39m\"\u001b[39m\u001b[39m../results/EddyLifetimeType.CUSTOMMLP_DataType.KAIMAL.pkl\u001b[39m\u001b[39m\"\u001b[39m\n\u001b[1;32m      <a href='vscode-notebook-cell:/Users/matthewmeeker/OSS/DRDMannTurb/examples-unrendered/wind_gen_gif.ipynb#W2sZmlsZQ%3D%3D?line=7'>8</a>\u001b[0m )\n\u001b[1;32m     <a href='vscode-notebook-cell:/Users/matthewmeeker/OSS/DRDMannTurb/examples-unrendered/wind_gen_gif.ipynb#W2sZmlsZQ%3D%3D?line=9'>10</a>\u001b[0m camera \u001b[39m=\u001b[39m \u001b[39mdict\u001b[39m(\n\u001b[1;32m     <a href='vscode-notebook-cell:/Users/matthewmeeker/OSS/DRDMannTurb/examples-unrendered/wind_gen_gif.ipynb#W2sZmlsZQ%3D%3D?line=10'>11</a>\u001b[0m     eye\u001b[39m=\u001b[39m\u001b[39mdict\u001b[39m(x\u001b[39m=\u001b[39m\u001b[39m0.5\u001b[39m, y\u001b[39m=\u001b[39m\u001b[39m1.5\u001b[39m, z\u001b[39m=\u001b[39m\u001b[39m0.5\u001b[39m),\n\u001b[1;32m     <a href='vscode-notebook-cell:/Users/matthewmeeker/OSS/DRDMannTurb/examples-unrendered/wind_gen_gif.ipynb#W2sZmlsZQ%3D%3D?line=11'>12</a>\u001b[0m     center\u001b[39m=\u001b[39m\u001b[39mdict\u001b[39m(x\u001b[39m=\u001b[39m\u001b[39m0\u001b[39m, y\u001b[39m=\u001b[39m\u001b[39m0\u001b[39m, z\u001b[39m=\u001b[39m\u001b[39m0\u001b[39m), \n\u001b[1;32m     <a href='vscode-notebook-cell:/Users/matthewmeeker/OSS/DRDMannTurb/examples-unrendered/wind_gen_gif.ipynb#W2sZmlsZQ%3D%3D?line=12'>13</a>\u001b[0m )\n\u001b[0;32m---> <a href='vscode-notebook-cell:/Users/matthewmeeker/OSS/DRDMannTurb/examples-unrendered/wind_gen_gif.ipynb#W2sZmlsZQ%3D%3D?line=14'>15</a>\u001b[0m gen_drd \u001b[39m=\u001b[39m GenerateFluctuationField(\n\u001b[1;32m     <a href='vscode-notebook-cell:/Users/matthewmeeker/OSS/DRDMannTurb/examples-unrendered/wind_gen_gif.ipynb#W2sZmlsZQ%3D%3D?line=15'>16</a>\u001b[0m     friction_velocity,\n\u001b[1;32m     <a href='vscode-notebook-cell:/Users/matthewmeeker/OSS/DRDMannTurb/examples-unrendered/wind_gen_gif.ipynb#W2sZmlsZQ%3D%3D?line=16'>17</a>\u001b[0m     reference_height,\n\u001b[1;32m     <a href='vscode-notebook-cell:/Users/matthewmeeker/OSS/DRDMannTurb/examples-unrendered/wind_gen_gif.ipynb#W2sZmlsZQ%3D%3D?line=17'>18</a>\u001b[0m     grid_dimensions,\n\u001b[1;32m     <a href='vscode-notebook-cell:/Users/matthewmeeker/OSS/DRDMannTurb/examples-unrendered/wind_gen_gif.ipynb#W2sZmlsZQ%3D%3D?line=18'>19</a>\u001b[0m     grid_levels,\n\u001b[1;32m     <a href='vscode-notebook-cell:/Users/matthewmeeker/OSS/DRDMannTurb/examples-unrendered/wind_gen_gif.ipynb#W2sZmlsZQ%3D%3D?line=19'>20</a>\u001b[0m     model\u001b[39m=\u001b[39;49mType_Model,\n\u001b[1;32m     <a href='vscode-notebook-cell:/Users/matthewmeeker/OSS/DRDMannTurb/examples-unrendered/wind_gen_gif.ipynb#W2sZmlsZQ%3D%3D?line=20'>21</a>\u001b[0m     path_to_parameters\u001b[39m=\u001b[39;49mpath_to_parameters,\n\u001b[1;32m     <a href='vscode-notebook-cell:/Users/matthewmeeker/OSS/DRDMannTurb/examples-unrendered/wind_gen_gif.ipynb#W2sZmlsZQ%3D%3D?line=21'>22</a>\u001b[0m     seed\u001b[39m=\u001b[39;49mseed,\n\u001b[1;32m     <a href='vscode-notebook-cell:/Users/matthewmeeker/OSS/DRDMannTurb/examples-unrendered/wind_gen_gif.ipynb#W2sZmlsZQ%3D%3D?line=22'>23</a>\u001b[0m )\n\u001b[1;32m     <a href='vscode-notebook-cell:/Users/matthewmeeker/OSS/DRDMannTurb/examples-unrendered/wind_gen_gif.ipynb#W2sZmlsZQ%3D%3D?line=24'>25</a>\u001b[0m fluctuation_field_drd \u001b[39m=\u001b[39m gen_drd\u001b[39m.\u001b[39mgenerate(nBlocks)\n\u001b[1;32m     <a href='vscode-notebook-cell:/Users/matthewmeeker/OSS/DRDMannTurb/examples-unrendered/wind_gen_gif.ipynb#W2sZmlsZQ%3D%3D?line=26'>27</a>\u001b[0m fluctuation_field_drd \u001b[39m=\u001b[39m gen_drd\u001b[39m.\u001b[39mnormalize(roughness_height, friction_velocity)\n",
      "File \u001b[0;32m~/OSS/DRDMannTurb/drdmannturb/fluctuation_generation/fluctuation_field_generator.py:250\u001b[0m, in \u001b[0;36mGenerateFluctuationField.__init__\u001b[0;34m(self, friction_velocity, reference_height, grid_dimensions, grid_levels, model, length_scale, time_scale, energy_spectrum_scale, path_to_parameters, seed, blend_num)\u001b[0m\n\u001b[1;32m    241\u001b[0m \u001b[39melif\u001b[39;00m model \u001b[39m==\u001b[39m \u001b[39m\"\u001b[39m\u001b[39mNN\u001b[39m\u001b[39m\"\u001b[39m:\n\u001b[1;32m    242\u001b[0m     \u001b[39mself\u001b[39m\u001b[39m.\u001b[39mCovariance \u001b[39m=\u001b[39m NNCovariance(\n\u001b[1;32m    243\u001b[0m         ndim\u001b[39m=\u001b[39m\u001b[39m3\u001b[39m,\n\u001b[1;32m    244\u001b[0m         length_scale\u001b[39m=\u001b[39mL,\n\u001b[0;32m   (...)\u001b[0m\n\u001b[1;32m    248\u001b[0m         h_ref\u001b[39m=\u001b[39mreference_height,\n\u001b[1;32m    249\u001b[0m     )\n\u001b[0;32m--> 250\u001b[0m     \u001b[39mself\u001b[39m\u001b[39m.\u001b[39mRF \u001b[39m=\u001b[39m VectorGaussianRandomField(\n\u001b[1;32m    251\u001b[0m         ndim\u001b[39m=\u001b[39;49m\u001b[39m3\u001b[39;49m,\n\u001b[1;32m    252\u001b[0m         grid_level\u001b[39m=\u001b[39;49mgrid_levels,\n\u001b[1;32m    253\u001b[0m         grid_dimensions\u001b[39m=\u001b[39;49mgrid_dimensions,\n\u001b[1;32m    254\u001b[0m         sampling_method\u001b[39m=\u001b[39;49m\u001b[39m\"\u001b[39;49m\u001b[39mvf_fftw\u001b[39;49m\u001b[39m\"\u001b[39;49m,\n\u001b[1;32m    255\u001b[0m         grid_shape\u001b[39m=\u001b[39;49m\u001b[39mself\u001b[39;49m\u001b[39m.\u001b[39;49mnoise_shape[:\u001b[39m-\u001b[39;49m\u001b[39m1\u001b[39;49m],\n\u001b[1;32m    256\u001b[0m         Covariance\u001b[39m=\u001b[39;49m\u001b[39mself\u001b[39;49m\u001b[39m.\u001b[39;49mCovariance,\n\u001b[1;32m    257\u001b[0m     )\n\u001b[1;32m    259\u001b[0m \u001b[39mself\u001b[39m\u001b[39m.\u001b[39mRF\u001b[39m.\u001b[39mreseed(\u001b[39mself\u001b[39m\u001b[39m.\u001b[39mseed)\n",
      "File \u001b[0;32m~/OSS/DRDMannTurb/drdmannturb/fluctuation_generation/gaussian_random_fields.py:218\u001b[0m, in \u001b[0;36mVectorGaussianRandomField.__init__\u001b[0;34m(self, vdim, **kwargs)\u001b[0m\n\u001b[1;32m    210\u001b[0m \u001b[39mdef\u001b[39;00m \u001b[39m__init__\u001b[39m(\u001b[39mself\u001b[39m, vdim\u001b[39m=\u001b[39m\u001b[39m3\u001b[39m, \u001b[39m*\u001b[39m\u001b[39m*\u001b[39mkwargs):\n\u001b[1;32m    211\u001b[0m \u001b[39m    \u001b[39m\u001b[39m\"\"\"Constructor for vector of GRFs in specified number of dimensions (presently only 3). ``kwargs`` must contain all information required by :py:class:`GaussianRandomField`.\u001b[39;00m\n\u001b[1;32m    212\u001b[0m \n\u001b[1;32m    213\u001b[0m \u001b[39m    Parameters\u001b[39;00m\n\u001b[0;32m   (...)\u001b[0m\n\u001b[1;32m    216\u001b[0m \u001b[39m        Dimension count of vector of GRF, by default 3\u001b[39;00m\n\u001b[1;32m    217\u001b[0m \u001b[39m    \"\"\"\u001b[39;00m\n\u001b[0;32m--> 218\u001b[0m     \u001b[39msuper\u001b[39;49m()\u001b[39m.\u001b[39;49m\u001b[39m__init__\u001b[39;49m(\u001b[39m*\u001b[39;49m\u001b[39m*\u001b[39;49mkwargs)\n\u001b[1;32m    219\u001b[0m     \u001b[39mself\u001b[39m\u001b[39m.\u001b[39mvdim \u001b[39m=\u001b[39m vdim\n\u001b[1;32m    220\u001b[0m     \u001b[39mself\u001b[39m\u001b[39m.\u001b[39mDomainSlice \u001b[39m=\u001b[39m \u001b[39mtuple\u001b[39m(\u001b[39mlist\u001b[39m(\u001b[39mself\u001b[39m\u001b[39m.\u001b[39mDomainSlice) \u001b[39m+\u001b[39m [\u001b[39mslice\u001b[39m(\u001b[39mNone\u001b[39;00m, \u001b[39mNone\u001b[39;00m, \u001b[39mNone\u001b[39;00m)])\n",
      "File \u001b[0;32m~/OSS/DRDMannTurb/drdmannturb/fluctuation_generation/gaussian_random_fields.py:97\u001b[0m, in \u001b[0;36mGaussianRandomField.__init__\u001b[0;34m(self, Covariance, grid_level, grid_shape, grid_dimensions, ndim, sampling_method)\u001b[0m\n\u001b[1;32m     94\u001b[0m \u001b[39mself\u001b[39m\u001b[39m.\u001b[39mCovariance \u001b[39m=\u001b[39m Covariance\n\u001b[1;32m     96\u001b[0m \u001b[39m### Sampling method\u001b[39;00m\n\u001b[0;32m---> 97\u001b[0m \u001b[39mself\u001b[39;49m\u001b[39m.\u001b[39;49msetSamplingMethod(sampling_method)\n\u001b[1;32m     99\u001b[0m \u001b[39m# Pseudo-random number generator\u001b[39;00m\n\u001b[1;32m    100\u001b[0m \u001b[39mself\u001b[39m\u001b[39m.\u001b[39mprng \u001b[39m=\u001b[39m np\u001b[39m.\u001b[39mrandom\u001b[39m.\u001b[39mRandomState()\n",
      "File \u001b[0;32m~/OSS/DRDMannTurb/drdmannturb/fluctuation_generation/gaussian_random_fields.py:132\u001b[0m, in \u001b[0;36mGaussianRandomField.setSamplingMethod\u001b[0;34m(self, method)\u001b[0m\n\u001b[1;32m    129\u001b[0m     \u001b[39mself\u001b[39m\u001b[39m.\u001b[39mCorrelate \u001b[39m=\u001b[39m Sampling_FFTW(\u001b[39mself\u001b[39m)\n\u001b[1;32m    131\u001b[0m \u001b[39melif\u001b[39;00m method \u001b[39m==\u001b[39m METHOD_VF_FFTW:\n\u001b[0;32m--> 132\u001b[0m     \u001b[39mself\u001b[39m\u001b[39m.\u001b[39mCorrelate \u001b[39m=\u001b[39m Sampling_VF_FFTW(\u001b[39mself\u001b[39;49m)\n\u001b[1;32m    134\u001b[0m \u001b[39melse\u001b[39;00m:\n\u001b[1;32m    135\u001b[0m     \u001b[39mraise\u001b[39;00m \u001b[39mException\u001b[39;00m(\u001b[39mf\u001b[39m\u001b[39m'\u001b[39m\u001b[39mUnknown sampling method \u001b[39m\u001b[39m\"\u001b[39m\u001b[39m{\u001b[39;00mmethod\u001b[39m}\u001b[39;00m\u001b[39m\"\u001b[39m\u001b[39m.\u001b[39m\u001b[39m'\u001b[39m)\n",
      "File \u001b[0;32m~/OSS/DRDMannTurb/drdmannturb/fluctuation_generation/sampling_methods.py:89\u001b[0m, in \u001b[0;36mSampling_VF_FFTW.__init__\u001b[0;34m(self, RandomField)\u001b[0m\n\u001b[1;32m     88\u001b[0m \u001b[39mdef\u001b[39;00m \u001b[39m__init__\u001b[39m(\u001b[39mself\u001b[39m, RandomField):\n\u001b[0;32m---> 89\u001b[0m     \u001b[39msuper\u001b[39;49m()\u001b[39m.\u001b[39;49m\u001b[39m__init__\u001b[39;49m(RandomField)\n\u001b[1;32m     91\u001b[0m     \u001b[39mimport\u001b[39;00m \u001b[39mpyfftw\u001b[39;00m\n\u001b[1;32m     93\u001b[0m     n_cpu \u001b[39m=\u001b[39m \u001b[39m4\u001b[39m\n",
      "File \u001b[0;32m~/OSS/DRDMannTurb/drdmannturb/fluctuation_generation/sampling_methods.py:48\u001b[0m, in \u001b[0;36mSampling_method_freq.__init__\u001b[0;34m(self, RandomField)\u001b[0m\n\u001b[1;32m     44\u001b[0m \u001b[39mself\u001b[39m\u001b[39m.\u001b[39mFrequencies \u001b[39m=\u001b[39m [\n\u001b[1;32m     45\u001b[0m     (\u001b[39m2\u001b[39m \u001b[39m*\u001b[39m np\u001b[39m.\u001b[39mpi \u001b[39m/\u001b[39m L[j]) \u001b[39m*\u001b[39m (Nd[j] \u001b[39m*\u001b[39m fft\u001b[39m.\u001b[39mfftfreq(Nd[j])) \u001b[39mfor\u001b[39;00m j \u001b[39min\u001b[39;00m \u001b[39mrange\u001b[39m(d)\n\u001b[1;32m     46\u001b[0m ]\n\u001b[1;32m     47\u001b[0m \u001b[39mself\u001b[39m\u001b[39m.\u001b[39mTransformNorm \u001b[39m=\u001b[39m np\u001b[39m.\u001b[39msqrt(L\u001b[39m.\u001b[39mprod())\n\u001b[0;32m---> 48\u001b[0m \u001b[39mself\u001b[39m\u001b[39m.\u001b[39mSpectrum \u001b[39m=\u001b[39m RandomField\u001b[39m.\u001b[39;49mCovariance\u001b[39m.\u001b[39;49mprecompute_Spectrum(\u001b[39mself\u001b[39;49m\u001b[39m.\u001b[39;49mFrequencies)\n",
      "File \u001b[0;32m~/OSS/DRDMannTurb/drdmannturb/fluctuation_generation/nn_covariance.py:105\u001b[0m, in \u001b[0;36mNNCovariance.precompute_Spectrum\u001b[0;34m(self, Frequencies)\u001b[0m\n\u001b[1;32m    103\u001b[0m \u001b[39mwith\u001b[39;00m np\u001b[39m.\u001b[39merrstate(divide\u001b[39m=\u001b[39m\u001b[39m\"\u001b[39m\u001b[39mignore\u001b[39m\u001b[39m\"\u001b[39m, invalid\u001b[39m=\u001b[39m\u001b[39m\"\u001b[39m\u001b[39mignore\u001b[39m\u001b[39m\"\u001b[39m):\n\u001b[1;32m    104\u001b[0m     k_torch \u001b[39m=\u001b[39m torch\u001b[39m.\u001b[39mtensor(np\u001b[39m.\u001b[39mmoveaxis(k, \u001b[39m0\u001b[39m, \u001b[39m-\u001b[39m\u001b[39m1\u001b[39m)) \u001b[39m*\u001b[39m \u001b[39mself\u001b[39m\u001b[39m.\u001b[39mh_ref\n\u001b[0;32m--> 105\u001b[0m     beta_torch \u001b[39m=\u001b[39m \u001b[39mself\u001b[39m\u001b[39m.\u001b[39mGamma \u001b[39m*\u001b[39m \u001b[39mself\u001b[39;49m\u001b[39m.\u001b[39;49mOPS\u001b[39m.\u001b[39;49mtauNet(k_torch)\n\u001b[1;32m    106\u001b[0m     beta \u001b[39m=\u001b[39m (\n\u001b[1;32m    107\u001b[0m         beta_torch\u001b[39m.\u001b[39mdetach()\u001b[39m.\u001b[39mcpu()\u001b[39m.\u001b[39mnumpy()\n\u001b[1;32m    108\u001b[0m         \u001b[39mif\u001b[39;00m beta_torch\u001b[39m.\u001b[39mis_cuda\n\u001b[1;32m    109\u001b[0m         \u001b[39melse\u001b[39;00m beta_torch\u001b[39m.\u001b[39mdetach()\u001b[39m.\u001b[39mnumpy()\n\u001b[1;32m    110\u001b[0m     )\n\u001b[1;32m    111\u001b[0m     beta[np\u001b[39m.\u001b[39mwhere(kk \u001b[39m==\u001b[39m \u001b[39m0\u001b[39m)] \u001b[39m=\u001b[39m \u001b[39m0\u001b[39m\n",
      "File \u001b[0;32m~/miniconda3/envs/DRDMT/lib/python3.9/site-packages/torch/nn/modules/module.py:1501\u001b[0m, in \u001b[0;36mModule._call_impl\u001b[0;34m(self, *args, **kwargs)\u001b[0m\n\u001b[1;32m   1496\u001b[0m \u001b[39m# If we don't have any hooks, we want to skip the rest of the logic in\u001b[39;00m\n\u001b[1;32m   1497\u001b[0m \u001b[39m# this function, and just call forward.\u001b[39;00m\n\u001b[1;32m   1498\u001b[0m \u001b[39mif\u001b[39;00m \u001b[39mnot\u001b[39;00m (\u001b[39mself\u001b[39m\u001b[39m.\u001b[39m_backward_hooks \u001b[39mor\u001b[39;00m \u001b[39mself\u001b[39m\u001b[39m.\u001b[39m_backward_pre_hooks \u001b[39mor\u001b[39;00m \u001b[39mself\u001b[39m\u001b[39m.\u001b[39m_forward_hooks \u001b[39mor\u001b[39;00m \u001b[39mself\u001b[39m\u001b[39m.\u001b[39m_forward_pre_hooks\n\u001b[1;32m   1499\u001b[0m         \u001b[39mor\u001b[39;00m _global_backward_pre_hooks \u001b[39mor\u001b[39;00m _global_backward_hooks\n\u001b[1;32m   1500\u001b[0m         \u001b[39mor\u001b[39;00m _global_forward_hooks \u001b[39mor\u001b[39;00m _global_forward_pre_hooks):\n\u001b[0;32m-> 1501\u001b[0m     \u001b[39mreturn\u001b[39;00m forward_call(\u001b[39m*\u001b[39;49margs, \u001b[39m*\u001b[39;49m\u001b[39m*\u001b[39;49mkwargs)\n\u001b[1;32m   1502\u001b[0m \u001b[39m# Do not call functions when jit is used\u001b[39;00m\n\u001b[1;32m   1503\u001b[0m full_backward_hooks, non_full_backward_hooks \u001b[39m=\u001b[39m [], []\n",
      "File \u001b[0;32m~/OSS/DRDMannTurb/drdmannturb/nn_modules.py:322\u001b[0m, in \u001b[0;36mCustomNet.forward\u001b[0;34m(self, k)\u001b[0m\n\u001b[1;32m    308\u001b[0m \u001b[39mdef\u001b[39;00m \u001b[39mforward\u001b[39m(\u001b[39mself\u001b[39m, k: torch\u001b[39m.\u001b[39mTensor) \u001b[39m-\u001b[39m\u001b[39m>\u001b[39m torch\u001b[39m.\u001b[39mTensor:\n\u001b[1;32m    309\u001b[0m \u001b[39m    \u001b[39m\u001b[39m\"\"\"\u001b[39;00m\n\u001b[1;32m    310\u001b[0m \u001b[39m    Forward method implementation\u001b[39;00m\n\u001b[1;32m    311\u001b[0m \n\u001b[0;32m   (...)\u001b[0m\n\u001b[1;32m    320\u001b[0m \u001b[39m        Output of forward pass of neural network\u001b[39;00m\n\u001b[1;32m    321\u001b[0m \u001b[39m    \"\"\"\u001b[39;00m\n\u001b[0;32m--> 322\u001b[0m     k_mod \u001b[39m=\u001b[39m \u001b[39mself\u001b[39;49m\u001b[39m.\u001b[39;49mNN(k\u001b[39m.\u001b[39;49mabs())\u001b[39m.\u001b[39;49mnorm(dim\u001b[39m=\u001b[39;49m\u001b[39m-\u001b[39;49m\u001b[39m1\u001b[39;49m)\n\u001b[1;32m    323\u001b[0m     tau \u001b[39m=\u001b[39m \u001b[39mself\u001b[39m\u001b[39m.\u001b[39mRa(k_mod)\n\u001b[1;32m    324\u001b[0m     \u001b[39mreturn\u001b[39;00m tau\n",
      "File \u001b[0;32m~/miniconda3/envs/DRDMT/lib/python3.9/site-packages/torch/_tensor.py:647\u001b[0m, in \u001b[0;36mTensor.norm\u001b[0;34m(self, p, dim, keepdim, dtype)\u001b[0m\n\u001b[1;32m    643\u001b[0m \u001b[39mif\u001b[39;00m has_torch_function_unary(\u001b[39mself\u001b[39m):\n\u001b[1;32m    644\u001b[0m     \u001b[39mreturn\u001b[39;00m handle_torch_function(\n\u001b[1;32m    645\u001b[0m         Tensor\u001b[39m.\u001b[39mnorm, (\u001b[39mself\u001b[39m,), \u001b[39mself\u001b[39m, p\u001b[39m=\u001b[39mp, dim\u001b[39m=\u001b[39mdim, keepdim\u001b[39m=\u001b[39mkeepdim, dtype\u001b[39m=\u001b[39mdtype\n\u001b[1;32m    646\u001b[0m     )\n\u001b[0;32m--> 647\u001b[0m \u001b[39mreturn\u001b[39;00m torch\u001b[39m.\u001b[39;49mnorm(\u001b[39mself\u001b[39;49m, p, dim, keepdim, dtype\u001b[39m=\u001b[39;49mdtype)\n",
      "File \u001b[0;32m~/miniconda3/envs/DRDMT/lib/python3.9/site-packages/torch/functional.py:1501\u001b[0m, in \u001b[0;36mnorm\u001b[0;34m(input, p, dim, keepdim, out, dtype)\u001b[0m\n\u001b[1;32m   1499\u001b[0m \u001b[39mif\u001b[39;00m p \u001b[39m==\u001b[39m \u001b[39m\"\u001b[39m\u001b[39mfro\u001b[39m\u001b[39m\"\u001b[39m \u001b[39mand\u001b[39;00m (dim \u001b[39mis\u001b[39;00m \u001b[39mNone\u001b[39;00m \u001b[39mor\u001b[39;00m \u001b[39misinstance\u001b[39m(dim, \u001b[39mint\u001b[39m) \u001b[39mor\u001b[39;00m \u001b[39mlen\u001b[39m(dim) \u001b[39m<\u001b[39m\u001b[39m=\u001b[39m \u001b[39m2\u001b[39m):\n\u001b[1;32m   1500\u001b[0m     \u001b[39mif\u001b[39;00m out \u001b[39mis\u001b[39;00m \u001b[39mNone\u001b[39;00m:\n\u001b[0;32m-> 1501\u001b[0m         \u001b[39mreturn\u001b[39;00m torch\u001b[39m.\u001b[39;49mlinalg\u001b[39m.\u001b[39;49mvector_norm(\u001b[39minput\u001b[39;49m, \u001b[39m2\u001b[39;49m, _dim, keepdim, dtype\u001b[39m=\u001b[39;49mdtype)\n\u001b[1;32m   1502\u001b[0m     \u001b[39melse\u001b[39;00m:\n\u001b[1;32m   1503\u001b[0m         \u001b[39mreturn\u001b[39;00m torch\u001b[39m.\u001b[39mlinalg\u001b[39m.\u001b[39mvector_norm(\u001b[39minput\u001b[39m, \u001b[39m2\u001b[39m, _dim, keepdim, dtype\u001b[39m=\u001b[39mdtype, out\u001b[39m=\u001b[39mout)\n",
      "\u001b[0;31mKeyboardInterrupt\u001b[0m: "
     ]
    }
   ],
   "source": [
    "Type_Model = \"NN\"  ### 'Mann', 'VK', 'NN'\n",
    "nBlocks = 8\n",
    "\n",
    "path_to_parameters = (\n",
    "    path / \"../docs/source/results/EddyLifetimeType.CUSTOMMLP_DataType.KAIMAL.pkl\"\n",
    "    if path.name == \"examples\"\n",
    "    else path / \"../results/EddyLifetimeType.CUSTOMMLP_DataType.KAIMAL.pkl\"\n",
    ")\n",
    "\n",
    "camera = dict(\n",
    "    eye=dict(x=0.5, y=1.5, z=0.5),\n",
    "    center=dict(x=0, y=0, z=0), \n",
    ")\n",
    "\n",
    "gen_drd = GenerateTurbulenceField(\n",
    "    friction_velocity,\n",
    "    reference_height,\n",
    "    grid_dimensions,\n",
    "    grid_levels,\n",
    "    model=Type_Model,\n",
    "    path_to_parameters=path_to_parameters,\n",
    "    seed=seed,\n",
    ")\n",
    "\n",
    "fluctuation_field_drd = gen_drd.generate(nBlocks)\n",
    "\n",
    "fluctuation_field_drd = gen_drd.normalize(roughness_height, friction_velocity)\n",
    "\n",
    "spacing = tuple(grid_dimensions / (2.0**grid_levels + 1))\n",
    "\n",
    "X, Y, Z = create_grid(spacing, fluctuation_field_drd.shape)\n",
    "\n",
    "XMAX, XMIN = X.max(), X.min()\n",
    "YMAX, YMIN = Y.max(), Y.min()\n",
    "ZMAX, ZMIN = Z.max(), Z.min()\n",
    "\n",
    "\n",
    "\n",
    "print(X.max(), X.min(), Y.max(), Y.min(), Z.max(), Z.min())"
   ]
  },
  {
   "cell_type": "code",
   "execution_count": null,
   "metadata": {},
   "outputs": [],
   "source": [
    "np.abs(fluctuation_field_drd).min(), np.abs(fluctuation_field_drd).max()"
   ]
  },
  {
   "cell_type": "code",
   "execution_count": 15,
   "metadata": {},
   "outputs": [
    {
     "name": "stdout",
     "output_type": "stream",
     "text": [
      "Scales:  [0.6119754316657415, 4.166587976454207, 77.20412995416186]\n"
     ]
    }
   ],
   "source": [
    "Type_Model = \"NN\"\n",
    "nBlocks = 1\n",
    "\n",
    "path_to_parameters = (\n",
    "    path / \"../docs/source/results/EddyLifetimeType.CUSTOMMLP_DataType.KAIMAL.pkl\"\n",
    "    if path.name == \"examples\"\n",
    "    else path / \"../results/EddyLifetimeType.CUSTOMMLP_DataType.KAIMAL.pkl\"\n",
    ")\n",
    "\n",
    "gen_drd = GenerateTurbulenceField\n",
    "    friction_velocity,\n",
    "    reference_height,\n",
    "    grid_dimensions,\n",
    "    grid_levels,\n",
    "    model=\"NN\",\n",
    "    path_to_parameters=path_to_parameters,\n",
    "    seed=seed\n",
    ")\n",
    "\n",
    "fluctuation_field_drd = gen_drd.generate(nBlocks)\n",
    "fluctuation_field_drd = gen_drd.normalize(roughness_height, friction_velocity)\n",
    "\n",
    "spacing = tuple(grid_dimensions / (2.0 ** grid_levels + 1))\n",
    "X, Y, Z = create_grid(spacing, fluctuation_field_drd.shape)"
   ]
  },
  {
   "cell_type": "code",
   "execution_count": null,
   "metadata": {},
   "outputs": [],
   "source": [
    "plot_velocity_magnitude(spacing, fluctuation_field_drd)"
   ]
  },
  {
   "cell_type": "code",
   "execution_count": null,
   "metadata": {},
   "outputs": [],
   "source": [
    "X = gen_drd.generate(1);"
   ]
  },
  {
   "cell_type": "code",
   "execution_count": null,
   "metadata": {},
   "outputs": [],
   "source": [
    "X = gen_drd.normalize(roughness_height, friction_velocity)"
   ]
  },
  {
   "cell_type": "code",
   "execution_count": null,
   "metadata": {},
   "outputs": [],
   "source": [
    "plot_velocity_magnitude(spacing, X)"
   ]
  },
  {
   "cell_type": "code",
   "execution_count": 4,
   "metadata": {},
   "outputs": [],
   "source": [
    "import csv"
   ]
  },
  {
   "cell_type": "code",
   "execution_count": null,
   "metadata": {},
   "outputs": [],
   "source": [
    "def wf_to_wfnorms(wind_field):\n",
    "    "
   ]
  },
  {
   "cell_type": "code",
   "execution_count": 8,
   "metadata": {},
   "outputs": [
    {
     "name": "stdout",
     "output_type": "stream",
     "text": [
      "Scales:  [0.6119754316657415, 4.166587976454207, 77.20412995416186]\n"
     ]
    },
    {
     "name": "stderr",
     "output_type": "stream",
     "text": [
      "/Users/matthewmeeker/OSS/DRDMannTurb/drdmannturb/fluctuation_generation/fluctuation_field_generator.py:306: UserWarning: Fluctuation field has already been generated, additional blocks will be appended to existing field. If this is undesirable behavior, instantiate a new object.\n",
      "  warnings.warn(\n"
     ]
    }
   ],
   "source": [
    "Type_Model = \"NN\"\n",
    "\n",
    "path_to_parameters = (\n",
    "    path / \"../docs/source/results/EddyLifetimeType.CUSTOMMLP_DataType.KAIMAL.pkl\"\n",
    "    if path.name == \"examples\"\n",
    "    else path / \"../results/EddyLifetimeType.CUSTOMMLP_DataType.KAIMAL.pkl\"\n",
    ")\n",
    "\n",
    "gen_drd = GenerateTurbulenceField\n",
    "    friction_velocity,\n",
    "    reference_height,\n",
    "    grid_dimensions,\n",
    "    grid_levels,\n",
    "    model=\"NN\",\n",
    "    path_to_parameters=path_to_parameters,\n",
    "    seed=seed\n",
    ")\n",
    "\n",
    "for i in range(2):\n",
    "    gen_drd.generate(1)\n",
    "    curr = gen_drd.normalize(roughness_height, friction_velocity)\n",
    "\n",
    "    formatted_curr = format_wind_field(curr)\n"
   ]
  },
  {
   "cell_type": "code",
   "execution_count": 11,
   "metadata": {},
   "outputs": [
    {
     "data": {
      "text/plain": [
       "3"
      ]
     },
     "execution_count": 11,
     "metadata": {},
     "output_type": "execute_result"
    }
   ],
   "source": [
    "formatted_curr"
   ]
  },
  {
   "cell_type": "code",
   "execution_count": null,
   "metadata": {},
   "outputs": [],
   "source": [
    "\n",
    "plot_velocity_magnitude(spacing, fields_over_time[14])"
   ]
  },
  {
   "cell_type": "code",
   "execution_count": null,
   "metadata": {},
   "outputs": [],
   "source": [
    "gen_drd = GenerateTurbulenceField(\n",
    "    friction_velocity,\n",
    "    reference_height,\n",
    "    grid_dimensions,\n",
    "    grid_levels,\n",
    "    model=Type_Model,\n",
    "    path_to_parameters=path_to_parameters,\n",
    "    seed=seed,\n",
    ")\n",
    "\n",
    "for nBlocks in range(1, 10+1): \n",
    "    fluctuation_field_drd = gen_drd.generate(1)\n",
    "\n",
    "    fluctuation_field_drd = gen_drd.normalize(roughness_height, friction_velocity)\n",
    "\n",
    "    #######################################################################################\n",
    "    # We now visualize the output fluctuation field.\n",
    "    fig_magnitude_drd = plot_velocity_magnitude(spacing, fluctuation_field_drd, transparent=True)\n",
    "\n",
    "    print(f\"generated blocks for {nBlocks}\")\n",
    "\n",
    "    # this is a Plotly figure, which can be visualized with the ``.show()`` method in different contexts.\n",
    "\n",
    "    # fig_magnitude_drd.update_layout(scene_camera=camera, title=f\"Magnitude of Generated Fluctuation Field with {nBlocks} Blocks\")\n",
    "\n",
    "    fig_magnitude_drd.update_layout(scene=dict(xaxis=dict(range=[XMIN, XMAX]), yaxis=dict(range=[YMIN, YMAX]), zaxis=dict(range=[ZMIN, ZMAX])))\n",
    "\n",
    "    # fig_magnitude_drd.update_layout(coloraxis=dict(cmax=18, cmin=0), layout_coloraxis_showscale=False)\n",
    "\n",
    "    fig_magnitude_drd.update_coloraxes(showscale=False)\n",
    "\n",
    "    fig_magnitude_drd.update_layout(coloraxis_showscale=False)\n",
    "\n",
    "    # fig_magnitude_drd.update_traces(\n",
    "            # marker_coloraxis=None\n",
    "        # )\n",
    "\n",
    "    # fig_magnitude_drd.data[0].update(zmin=0, zmax=18)\n",
    "\n",
    "    fig_magnitude_drd.write_image(f\"./frame_{nBlocks}.png\")\n",
    "\n",
    "    print(\"saved\")"
   ]
  },
  {
   "cell_type": "code",
   "execution_count": null,
   "metadata": {},
   "outputs": [],
   "source": [
    "# use this in terminal on transparent pngs \n",
    "\n",
    "convert -dispose 2 -delay 150 *.png animation.gif"
   ]
  },
  {
   "cell_type": "code",
   "execution_count": null,
   "metadata": {},
   "outputs": [],
   "source": [
    "\n",
    "### DON'T USE THIS STUFF\n",
    "import imageio\n",
    "import imageio.v3 as iio\n",
    "\n",
    "images = []\n",
    "for frame_idx in range(1, 5+1): \n",
    "    images.append(imageio.imread(f\"./frame_{frame_idx}.png\"))\n",
    "\n",
    "# imageio.mimsave('./test.gif', images,  format='GIF', fps=1)\n",
    "# iio.imwrite('./test.gif', images,  format='GIF', fps=1, loop=0)"
   ]
  }
 ],
 "metadata": {
  "kernelspec": {
   "display_name": "fracturbulence",
   "language": "python",
   "name": "python3"
  },
  "language_info": {
   "codemirror_mode": {
    "name": "ipython",
    "version": 3
   },
   "file_extension": ".py",
   "mimetype": "text/x-python",
   "name": "python",
   "nbconvert_exporter": "python",
   "pygments_lexer": "ipython3",
   "version": "3.9.16"
  }
 },
 "nbformat": 4,
 "nbformat_minor": 2
}
