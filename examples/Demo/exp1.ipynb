{
 "cells": [
  {
   "cell_type": "code",
   "execution_count": 9,
   "metadata": {},
   "outputs": [],
   "source": [
    "from drdmannturb.calibration import CalibrationProblem\n",
    "from drdmannturb.data_generator import OnePointSpectraDataGenerator\n",
    "from drdmannturb.shared.parameters import NNParameters, ProblemParameters, LossParameters, PhysicalParameters\n",
    "\n",
    "import torch.nn as nn\n",
    "import numpy as np"
   ]
  },
  {
   "cell_type": "code",
   "execution_count": 10,
   "metadata": {},
   "outputs": [
    {
     "name": "stdout",
     "output_type": "stream",
     "text": [
      "[GELU(approximate='none'), GELU(approximate='none'), GELU(approximate='none')]\n"
     ]
    }
   ],
   "source": [
    "pb = CalibrationProblem(\n",
    "    nn_params = NNParameters(\n",
    "        activations = [nn.GELU(), nn.GELU(), nn.GELU()]\n",
    "    ),\n",
    "    prob_params = ProblemParameters(),\n",
    "    loss_params = LossParameters(),\n",
    "    phys_params = PhysicalParameters(L=0.59, Gamma=3.9, sigma=3.4)\n",
    ")"
   ]
  },
  {
   "cell_type": "code",
   "execution_count": null,
   "metadata": {},
   "outputs": [],
   "source": []
  }
 ],
 "metadata": {
  "kernelspec": {
   "display_name": "KeithProject",
   "language": "python",
   "name": "python3"
  },
  "language_info": {
   "codemirror_mode": {
    "name": "ipython",
    "version": 3
   },
   "file_extension": ".py",
   "mimetype": "text/x-python",
   "name": "python",
   "nbconvert_exporter": "python",
   "pygments_lexer": "ipython3",
   "version": "3.9.17"
  },
  "orig_nbformat": 4
 },
 "nbformat": 4,
 "nbformat_minor": 2
}
