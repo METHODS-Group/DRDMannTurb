{
 "cells": [
  {
   "cell_type": "code",
   "execution_count": 5,
   "metadata": {},
   "outputs": [
    {
     "ename": "ModuleNotFoundError",
     "evalue": "No module named 'drdmannturb.calibration'",
     "output_type": "error",
     "traceback": [
      "\u001b[0;31m---------------------------------------------------------------------------\u001b[0m",
      "\u001b[0;31mModuleNotFoundError\u001b[0m                       Traceback (most recent call last)",
      "\u001b[1;32m/Users/matthewmeeker/BrownU/Fall23/KeithDeskos/DRDMannTurb/examples/Demo/exp1.ipynb Cell 1\u001b[0m line \u001b[0;36m3\n\u001b[1;32m      <a href='vscode-notebook-cell:/Users/matthewmeeker/BrownU/Fall23/KeithDeskos/DRDMannTurb/examples/Demo/exp1.ipynb#W0sZmlsZQ%3D%3D?line=0'>1</a>\u001b[0m \u001b[39mimport\u001b[39;00m \u001b[39mdrdmannturb\u001b[39;00m\n\u001b[0;32m----> <a href='vscode-notebook-cell:/Users/matthewmeeker/BrownU/Fall23/KeithDeskos/DRDMannTurb/examples/Demo/exp1.ipynb#W0sZmlsZQ%3D%3D?line=2'>3</a>\u001b[0m \u001b[39mfrom\u001b[39;00m \u001b[39mdrdmannturb\u001b[39;00m\u001b[39m.\u001b[39;00m\u001b[39mcalibration\u001b[39;00m \u001b[39mimport\u001b[39;00m CalibrationProblem\n\u001b[1;32m      <a href='vscode-notebook-cell:/Users/matthewmeeker/BrownU/Fall23/KeithDeskos/DRDMannTurb/examples/Demo/exp1.ipynb#W0sZmlsZQ%3D%3D?line=3'>4</a>\u001b[0m \u001b[39mfrom\u001b[39;00m \u001b[39mdrdmannturb\u001b[39;00m\u001b[39m.\u001b[39;00m\u001b[39mdata_generator\u001b[39;00m \u001b[39mimport\u001b[39;00m OnePointSpectraDataGenerator\n",
      "\u001b[0;31mModuleNotFoundError\u001b[0m: No module named 'drdmannturb.calibration'"
     ]
    }
   ],
   "source": [
    "from drdmannturb.calibration import CalibrationProblem\n",
    "from drdmannturb.data_generator import OnePointSpectraDataGenerator"
   ]
  },
  {
   "cell_type": "code",
   "execution_count": null,
   "metadata": {},
   "outputs": [],
   "source": []
  }
 ],
 "metadata": {
  "kernelspec": {
   "display_name": "KeithProject",
   "language": "python",
   "name": "python3"
  },
  "language_info": {
   "codemirror_mode": {
    "name": "ipython",
    "version": 3
   },
   "file_extension": ".py",
   "mimetype": "text/x-python",
   "name": "python",
   "nbconvert_exporter": "python",
   "pygments_lexer": "ipython3",
   "version": "3.9.17"
  },
  "orig_nbformat": 4
 },
 "nbformat": 4,
 "nbformat_minor": 2
}
