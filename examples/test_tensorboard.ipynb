{
 "cells": [
  {
   "cell_type": "code",
   "execution_count": 1,
   "metadata": {},
   "outputs": [],
   "source": [
    "import torch\n",
    "import torch.nn as nn\n",
    "\n",
    "# from drdmannturb.calibration import CalibrationProblem\n",
    "# from drdmannturb.data_generator import OnePointSpectraDataGenerator\n",
    "from drdmannturb.parameters import (\n",
    "    LossParameters,\n",
    "    NNParameters,\n",
    "    PhysicalParameters,\n",
    "    ProblemParameters,\n",
    ")\n",
    "from drdmannturb.spectra_fitting import CalibrationProblem, OnePointSpectraDataGenerator\n",
    "\n",
    "device = \"cuda\" if torch.cuda.is_available() else \"cpu\"\n",
    "\n",
    "# v2: torch.set_default_device('cuda:0')\n",
    "if torch.cuda.is_available():\n",
    "    torch.set_default_tensor_type(\"torch.cuda.FloatTensor\")\n",
    "\n",
    "L = 0.59\n"
   ]
  },
  {
   "cell_type": "code",
   "execution_count": 2,
   "metadata": {},
   "outputs": [],
   "source": [
    "\n",
    "\n",
    "Gamma = 3.9\n",
    "sigma = 3.4\n",
    "\n",
    "domain = torch.logspace(-1, 2, 20)\n",
    "\n",
    "pb = CalibrationProblem(\n",
    "    nn_params=NNParameters(\n",
    "        nlayers=2,\n",
    "        hidden_layer_sizes=[10, 10],\n",
    "        activations=[nn.GELU(), nn.GELU()],\n",
    "    ),\n",
    "    prob_params=ProblemParameters(nepochs=5),\n",
    "    loss_params=LossParameters(alpha_pen2=1.0, alpha_pen1=1.0e-5, beta_reg=2e-4),\n",
    "    phys_params=PhysicalParameters(L=L, Gamma=Gamma, sigma=sigma, domain=domain),\n",
    "    device=device,\n",
    ")\n",
    "\n",
    "k1_data_pts = domain\n",
    "DataPoints = [(k1, 1) for k1 in k1_data_pts]\n",
    "\n",
    "Data = OnePointSpectraDataGenerator(data_points=DataPoints).Data"
   ]
  },
  {
   "cell_type": "code",
   "execution_count": 3,
   "metadata": {},
   "outputs": [
    {
     "name": "stdout",
     "output_type": "stream",
     "text": [
      "Initial loss: 0.1271737205129384\n"
     ]
    },
    {
     "name": "stderr",
     "output_type": "stream",
     "text": [
      "100%|██████████| 5/5 [00:13<00:00,  2.60s/it]"
     ]
    },
    {
     "name": "stdout",
     "output_type": "stream",
     "text": [
      "Spectral fitting concluded with final loss: 0.008182450856447906\n"
     ]
    },
    {
     "name": "stderr",
     "output_type": "stream",
     "text": [
      "\n"
     ]
    }
   ],
   "source": [
    "pb.eval(k1_data_pts)\n",
    "optimal_parameters = pb.calibrate(data=Data)"
   ]
  }
 ],
 "metadata": {
  "kernelspec": {
   "display_name": "fracturbulence",
   "language": "python",
   "name": "python3"
  },
  "language_info": {
   "codemirror_mode": {
    "name": "ipython",
    "version": 3
   },
   "file_extension": ".py",
   "mimetype": "text/x-python",
   "name": "python",
   "nbconvert_exporter": "python",
   "pygments_lexer": "ipython3",
   "version": "3.9.13"
  }
 },
 "nbformat": 4,
 "nbformat_minor": 2
}
